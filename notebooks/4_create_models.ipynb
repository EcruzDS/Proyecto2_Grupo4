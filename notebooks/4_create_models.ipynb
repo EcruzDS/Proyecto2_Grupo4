{
 "cells": [
  {
   "cell_type": "markdown",
   "metadata": {},
   "source": [
    "##### **Universidad Galileo**\n",
    "##### **Postgrado en Análisis y Predicción de Datos** - *Cuarto Trimestre 2024*\n",
    "##### **Product Development**\n",
    "##### **Alumno:** Elder Cruz. **Carnet:** 23004456\n",
    "##### **Alumno:** Walter Reyes. **Carnet:** 23004450\n",
    "##### **Alumno:** Dayana Gamboa. **Carnet:** 23001913\n",
    "##### **Alumno:** Rodrigo Cano. **Carnet:** 23001916\n",
    "##### **Proyecto final:** Create models"
   ]
  },
  {
   "cell_type": "markdown",
   "metadata": {},
   "source": [
    "### Para este notebook, se presenta el desarrollo de los algoritmos de clasificación para comparar el rendimiento de cada algoritmo y la evaluación distintos hiper-parámetros de cada modelo.\n",
    "\n",
    "#### Para el proyecto final del curso se ha elegido un dataset de una cartera crediticia de una entidad financiera con el fin de analizar sus variables relacionadas con la rentabilidad de cada segmento comercial existente el cual se espera sea la variable Target para posterior crear un modelo relacionado con la rentabilidad por cliente, segmento o producto."
   ]
  },
  {
   "cell_type": "markdown",
   "metadata": {},
   "source": [
    "# 1. Importación de librerías"
   ]
  },
  {
   "cell_type": "code",
   "execution_count": 1,
   "metadata": {},
   "outputs": [],
   "source": [
    "import pandas as pd\n",
    "import numpy as np\n",
    "import matplotlib.pyplot as plt\n",
    "import seaborn as sns\n",
    "import scipy.stats as stats"
   ]
  },
  {
   "cell_type": "markdown",
   "metadata": {},
   "source": [
    "# 2. Carga de datos"
   ]
  },
  {
   "cell_type": "code",
   "execution_count": 2,
   "metadata": {},
   "outputs": [],
   "source": [
    "dataset_path ='../data/processed/df_loans_FS.csv'"
   ]
  },
  {
   "cell_type": "code",
   "execution_count": 3,
   "metadata": {},
   "outputs": [
    {
     "data": {
      "text/html": [
       "<div>\n",
       "<style scoped>\n",
       "    .dataframe tbody tr th:only-of-type {\n",
       "        vertical-align: middle;\n",
       "    }\n",
       "\n",
       "    .dataframe tbody tr th {\n",
       "        vertical-align: top;\n",
       "    }\n",
       "\n",
       "    .dataframe thead th {\n",
       "        text-align: right;\n",
       "    }\n",
       "</style>\n",
       "<table border=\"1\" class=\"dataframe\">\n",
       "  <thead>\n",
       "    <tr style=\"text-align: right;\">\n",
       "      <th></th>\n",
       "      <th>Desembolso</th>\n",
       "      <th>Vencimiento</th>\n",
       "      <th>Saldo$</th>\n",
       "      <th>FechaReporte</th>\n",
       "      <th>PE_30.04.2024</th>\n",
       "      <th>PD_MAX_2024_04_30</th>\n",
       "      <th>LGD_MAX_2024_04_30</th>\n",
       "      <th>PlazoRestante(Dias)</th>\n",
       "      <th>Reserva Especifica$</th>\n",
       "      <th>Ab_24</th>\n",
       "      <th>...</th>\n",
       "      <th>FTP_capp_BC</th>\n",
       "      <th>FTP_capp_YJ</th>\n",
       "      <th>TIR_capp_cuad</th>\n",
       "      <th>TIR_capp_cuad_minMaxScaled</th>\n",
       "      <th>Saldo$_capp_cuad_minMaxScaled</th>\n",
       "      <th>FTP_capp_cuad_minMaxScaled</th>\n",
       "      <th>Tasa_Propuesta_capp_cuad_minMaxScaled</th>\n",
       "      <th>Reserva Especifica$_capp_cuad_minMaxScaled</th>\n",
       "      <th>PE_30.04.2024_capp_cuad_minMaxScaled</th>\n",
       "      <th>PlazoRestante(Dias)_capp_cuad_minMaxScaled</th>\n",
       "    </tr>\n",
       "  </thead>\n",
       "  <tbody>\n",
       "    <tr>\n",
       "      <th>0</th>\n",
       "      <td>2022-08-02</td>\n",
       "      <td>2037-04-30</td>\n",
       "      <td>3724668.653</td>\n",
       "      <td>2024-04-30</td>\n",
       "      <td>99427.84220</td>\n",
       "      <td>0.075018</td>\n",
       "      <td>0.3500</td>\n",
       "      <td>4748</td>\n",
       "      <td>72351.20216</td>\n",
       "      <td>0.0750</td>\n",
       "      <td>...</td>\n",
       "      <td>-383.347027</td>\n",
       "      <td>-383.347027</td>\n",
       "      <td>0.000037</td>\n",
       "      <td>0.013661</td>\n",
       "      <td>0.716564</td>\n",
       "      <td>0.922326</td>\n",
       "      <td>0.305537</td>\n",
       "      <td>0.363972</td>\n",
       "      <td>0.990139</td>\n",
       "      <td>0.549219</td>\n",
       "    </tr>\n",
       "    <tr>\n",
       "      <th>1</th>\n",
       "      <td>2022-09-12</td>\n",
       "      <td>2039-02-28</td>\n",
       "      <td>2902574.199</td>\n",
       "      <td>2024-04-30</td>\n",
       "      <td>100418.02520</td>\n",
       "      <td>0.097223</td>\n",
       "      <td>0.3500</td>\n",
       "      <td>5417</td>\n",
       "      <td>56339.50477</td>\n",
       "      <td>0.0775</td>\n",
       "      <td>...</td>\n",
       "      <td>-383.347027</td>\n",
       "      <td>-383.347027</td>\n",
       "      <td>0.000066</td>\n",
       "      <td>0.018281</td>\n",
       "      <td>0.558406</td>\n",
       "      <td>0.935660</td>\n",
       "      <td>0.316221</td>\n",
       "      <td>0.283423</td>\n",
       "      <td>1.000000</td>\n",
       "      <td>0.626605</td>\n",
       "    </tr>\n",
       "    <tr>\n",
       "      <th>2</th>\n",
       "      <td>2023-10-23</td>\n",
       "      <td>2026-05-25</td>\n",
       "      <td>2573399.796</td>\n",
       "      <td>2024-04-30</td>\n",
       "      <td>50873.84772</td>\n",
       "      <td>0.097223</td>\n",
       "      <td>0.2000</td>\n",
       "      <td>755</td>\n",
       "      <td>49795.28605</td>\n",
       "      <td>0.0750</td>\n",
       "      <td>...</td>\n",
       "      <td>-430.005307</td>\n",
       "      <td>-430.005307</td>\n",
       "      <td>0.000031</td>\n",
       "      <td>0.012580</td>\n",
       "      <td>0.495079</td>\n",
       "      <td>0.842738</td>\n",
       "      <td>0.316221</td>\n",
       "      <td>0.250502</td>\n",
       "      <td>0.506621</td>\n",
       "      <td>0.087334</td>\n",
       "    </tr>\n",
       "    <tr>\n",
       "      <th>3</th>\n",
       "      <td>2023-07-17</td>\n",
       "      <td>2028-07-17</td>\n",
       "      <td>2272312.020</td>\n",
       "      <td>2024-04-30</td>\n",
       "      <td>12008.44648</td>\n",
       "      <td>0.014032</td>\n",
       "      <td>0.3796</td>\n",
       "      <td>1539</td>\n",
       "      <td>43969.23758</td>\n",
       "      <td>0.0850</td>\n",
       "      <td>...</td>\n",
       "      <td>-410.248171</td>\n",
       "      <td>-410.248171</td>\n",
       "      <td>0.000100</td>\n",
       "      <td>0.022490</td>\n",
       "      <td>0.437155</td>\n",
       "      <td>0.858364</td>\n",
       "      <td>0.337589</td>\n",
       "      <td>0.221193</td>\n",
       "      <td>0.119585</td>\n",
       "      <td>0.178022</td>\n",
       "    </tr>\n",
       "    <tr>\n",
       "      <th>4</th>\n",
       "      <td>2023-11-23</td>\n",
       "      <td>2026-05-25</td>\n",
       "      <td>1707450.764</td>\n",
       "      <td>2024-04-30</td>\n",
       "      <td>33754.79796</td>\n",
       "      <td>0.097223</td>\n",
       "      <td>0.2000</td>\n",
       "      <td>755</td>\n",
       "      <td>28521.49497</td>\n",
       "      <td>0.0750</td>\n",
       "      <td>...</td>\n",
       "      <td>-430.005307</td>\n",
       "      <td>-430.005307</td>\n",
       "      <td>0.000031</td>\n",
       "      <td>0.012607</td>\n",
       "      <td>0.328485</td>\n",
       "      <td>0.842738</td>\n",
       "      <td>0.316221</td>\n",
       "      <td>0.143481</td>\n",
       "      <td>0.336143</td>\n",
       "      <td>0.087334</td>\n",
       "    </tr>\n",
       "  </tbody>\n",
       "</table>\n",
       "<p>5 rows × 50 columns</p>\n",
       "</div>"
      ],
      "text/plain": [
       "   Desembolso Vencimiento       Saldo$ FechaReporte  PE_30.04.2024  \\\n",
       "0  2022-08-02  2037-04-30  3724668.653   2024-04-30    99427.84220   \n",
       "1  2022-09-12  2039-02-28  2902574.199   2024-04-30   100418.02520   \n",
       "2  2023-10-23  2026-05-25  2573399.796   2024-04-30    50873.84772   \n",
       "3  2023-07-17  2028-07-17  2272312.020   2024-04-30    12008.44648   \n",
       "4  2023-11-23  2026-05-25  1707450.764   2024-04-30    33754.79796   \n",
       "\n",
       "   PD_MAX_2024_04_30  LGD_MAX_2024_04_30  PlazoRestante(Dias)  \\\n",
       "0           0.075018              0.3500                 4748   \n",
       "1           0.097223              0.3500                 5417   \n",
       "2           0.097223              0.2000                  755   \n",
       "3           0.014032              0.3796                 1539   \n",
       "4           0.097223              0.2000                  755   \n",
       "\n",
       "   Reserva Especifica$   Ab_24  ...  FTP_capp_BC  FTP_capp_YJ  TIR_capp_cuad  \\\n",
       "0          72351.20216  0.0750  ...  -383.347027  -383.347027       0.000037   \n",
       "1          56339.50477  0.0775  ...  -383.347027  -383.347027       0.000066   \n",
       "2          49795.28605  0.0750  ...  -430.005307  -430.005307       0.000031   \n",
       "3          43969.23758  0.0850  ...  -410.248171  -410.248171       0.000100   \n",
       "4          28521.49497  0.0750  ...  -430.005307  -430.005307       0.000031   \n",
       "\n",
       "   TIR_capp_cuad_minMaxScaled  Saldo$_capp_cuad_minMaxScaled  \\\n",
       "0                    0.013661                       0.716564   \n",
       "1                    0.018281                       0.558406   \n",
       "2                    0.012580                       0.495079   \n",
       "3                    0.022490                       0.437155   \n",
       "4                    0.012607                       0.328485   \n",
       "\n",
       "   FTP_capp_cuad_minMaxScaled  Tasa_Propuesta_capp_cuad_minMaxScaled  \\\n",
       "0                    0.922326                               0.305537   \n",
       "1                    0.935660                               0.316221   \n",
       "2                    0.842738                               0.316221   \n",
       "3                    0.858364                               0.337589   \n",
       "4                    0.842738                               0.316221   \n",
       "\n",
       "   Reserva Especifica$_capp_cuad_minMaxScaled  \\\n",
       "0                                    0.363972   \n",
       "1                                    0.283423   \n",
       "2                                    0.250502   \n",
       "3                                    0.221193   \n",
       "4                                    0.143481   \n",
       "\n",
       "   PE_30.04.2024_capp_cuad_minMaxScaled  \\\n",
       "0                              0.990139   \n",
       "1                              1.000000   \n",
       "2                              0.506621   \n",
       "3                              0.119585   \n",
       "4                              0.336143   \n",
       "\n",
       "   PlazoRestante(Dias)_capp_cuad_minMaxScaled  \n",
       "0                                    0.549219  \n",
       "1                                    0.626605  \n",
       "2                                    0.087334  \n",
       "3                                    0.178022  \n",
       "4                                    0.087334  \n",
       "\n",
       "[5 rows x 50 columns]"
      ]
     },
     "execution_count": 3,
     "metadata": {},
     "output_type": "execute_result"
    }
   ],
   "source": [
    "df_Loans = pd.read_csv(dataset_path, delimiter = \",\")\n",
    "df_Loans.head()"
   ]
  },
  {
   "cell_type": "markdown",
   "metadata": {},
   "source": [
    "# 3. EDA - Exploratory Analysis"
   ]
  },
  {
   "cell_type": "code",
   "execution_count": 4,
   "metadata": {},
   "outputs": [
    {
     "data": {
      "text/plain": [
       "Index(['Desembolso', 'Vencimiento', 'Saldo$', 'FechaReporte', 'PE_30.04.2024',\n",
       "       'PD_MAX_2024_04_30', 'LGD_MAX_2024_04_30', 'PlazoRestante(Dias)',\n",
       "       'Reserva Especifica$', 'Ab_24', 'Tasa_Propuesta', 'bps%',\n",
       "       'IntAnual_TasaPropuesta', 'Tasa_Costo_Oportunidad', 'FTP', 'TIR',\n",
       "       'Código Moneda', 'Status Mora', 'SegmentoComercial', 'Nuevo',\n",
       "       'Brecha_encoded', 'Saldo$_capp', 'PE_30.04.2024_capp',\n",
       "       'PD_MAX_2024_04_30_capp', 'PlazoRestante(Dias)_capp',\n",
       "       'Reserva Especifica$_capp', 'Ab_24_capp', 'Tasa_Propuesta_capp',\n",
       "       'IntAnual_TasaPropuesta_capp', 'FTP_capp', 'TIR_capp',\n",
       "       'Saldo$_capp_cuad', 'PE_30.04.2024_capp_cuad',\n",
       "       'PlazoRestante(Dias)_capp_cuad', 'Reserva Especifica$_capp_cuad',\n",
       "       'Tasa_Propuesta_capp_cuad', 'IntAnual_TasaPropuesta_capp_cuad',\n",
       "       'FTP_capp_cuad', 'FTP_capp_log', 'FTP_capp_inv', 'FTP_capp_BC',\n",
       "       'FTP_capp_YJ', 'TIR_capp_cuad', 'TIR_capp_cuad_minMaxScaled',\n",
       "       'Saldo$_capp_cuad_minMaxScaled', 'FTP_capp_cuad_minMaxScaled',\n",
       "       'Tasa_Propuesta_capp_cuad_minMaxScaled',\n",
       "       'Reserva Especifica$_capp_cuad_minMaxScaled',\n",
       "       'PE_30.04.2024_capp_cuad_minMaxScaled',\n",
       "       'PlazoRestante(Dias)_capp_cuad_minMaxScaled'],\n",
       "      dtype='object')"
      ]
     },
     "execution_count": 4,
     "metadata": {},
     "output_type": "execute_result"
    }
   ],
   "source": [
    "df_Loans.columns"
   ]
  },
  {
   "cell_type": "code",
   "execution_count": 5,
   "metadata": {},
   "outputs": [
    {
     "data": {
      "text/plain": [
       "(2819, 50)"
      ]
     },
     "execution_count": 5,
     "metadata": {},
     "output_type": "execute_result"
    }
   ],
   "source": [
    "df_Loans.shape"
   ]
  },
  {
   "cell_type": "code",
   "execution_count": 6,
   "metadata": {},
   "outputs": [
    {
     "data": {
      "text/html": [
       "<div>\n",
       "<style scoped>\n",
       "    .dataframe tbody tr th:only-of-type {\n",
       "        vertical-align: middle;\n",
       "    }\n",
       "\n",
       "    .dataframe tbody tr th {\n",
       "        vertical-align: top;\n",
       "    }\n",
       "\n",
       "    .dataframe thead th {\n",
       "        text-align: right;\n",
       "    }\n",
       "</style>\n",
       "<table border=\"1\" class=\"dataframe\">\n",
       "  <thead>\n",
       "    <tr style=\"text-align: right;\">\n",
       "      <th></th>\n",
       "      <th>Saldo$</th>\n",
       "      <th>PE_30.04.2024</th>\n",
       "      <th>PD_MAX_2024_04_30</th>\n",
       "      <th>LGD_MAX_2024_04_30</th>\n",
       "      <th>PlazoRestante(Dias)</th>\n",
       "      <th>Reserva Especifica$</th>\n",
       "      <th>Ab_24</th>\n",
       "      <th>Tasa_Propuesta</th>\n",
       "      <th>bps%</th>\n",
       "      <th>IntAnual_TasaPropuesta</th>\n",
       "      <th>...</th>\n",
       "      <th>FTP_capp_BC</th>\n",
       "      <th>FTP_capp_YJ</th>\n",
       "      <th>TIR_capp_cuad</th>\n",
       "      <th>TIR_capp_cuad_minMaxScaled</th>\n",
       "      <th>Saldo$_capp_cuad_minMaxScaled</th>\n",
       "      <th>FTP_capp_cuad_minMaxScaled</th>\n",
       "      <th>Tasa_Propuesta_capp_cuad_minMaxScaled</th>\n",
       "      <th>Reserva Especifica$_capp_cuad_minMaxScaled</th>\n",
       "      <th>PE_30.04.2024_capp_cuad_minMaxScaled</th>\n",
       "      <th>PlazoRestante(Dias)_capp_cuad_minMaxScaled</th>\n",
       "    </tr>\n",
       "  </thead>\n",
       "  <tbody>\n",
       "    <tr>\n",
       "      <th>0</th>\n",
       "      <td>3724668.653</td>\n",
       "      <td>99427.84220</td>\n",
       "      <td>0.075018</td>\n",
       "      <td>0.3500</td>\n",
       "      <td>4748</td>\n",
       "      <td>72351.20216</td>\n",
       "      <td>0.0750</td>\n",
       "      <td>0.0775</td>\n",
       "      <td>0.0025</td>\n",
       "      <td>288661.8206</td>\n",
       "      <td>...</td>\n",
       "      <td>-383.347027</td>\n",
       "      <td>-383.347027</td>\n",
       "      <td>0.000037</td>\n",
       "      <td>0.013661</td>\n",
       "      <td>0.716564</td>\n",
       "      <td>0.922326</td>\n",
       "      <td>0.305537</td>\n",
       "      <td>0.363972</td>\n",
       "      <td>0.990139</td>\n",
       "      <td>0.549219</td>\n",
       "    </tr>\n",
       "    <tr>\n",
       "      <th>1</th>\n",
       "      <td>2902574.199</td>\n",
       "      <td>100418.02520</td>\n",
       "      <td>0.097223</td>\n",
       "      <td>0.3500</td>\n",
       "      <td>5417</td>\n",
       "      <td>56339.50477</td>\n",
       "      <td>0.0775</td>\n",
       "      <td>0.0800</td>\n",
       "      <td>0.0025</td>\n",
       "      <td>232205.9359</td>\n",
       "      <td>...</td>\n",
       "      <td>-383.347027</td>\n",
       "      <td>-383.347027</td>\n",
       "      <td>0.000066</td>\n",
       "      <td>0.018281</td>\n",
       "      <td>0.558406</td>\n",
       "      <td>0.935660</td>\n",
       "      <td>0.316221</td>\n",
       "      <td>0.283423</td>\n",
       "      <td>1.000000</td>\n",
       "      <td>0.626605</td>\n",
       "    </tr>\n",
       "    <tr>\n",
       "      <th>2</th>\n",
       "      <td>2573399.796</td>\n",
       "      <td>50873.84772</td>\n",
       "      <td>0.097223</td>\n",
       "      <td>0.2000</td>\n",
       "      <td>755</td>\n",
       "      <td>49795.28605</td>\n",
       "      <td>0.0750</td>\n",
       "      <td>0.0800</td>\n",
       "      <td>0.0050</td>\n",
       "      <td>205871.9837</td>\n",
       "      <td>...</td>\n",
       "      <td>-430.005307</td>\n",
       "      <td>-430.005307</td>\n",
       "      <td>0.000031</td>\n",
       "      <td>0.012580</td>\n",
       "      <td>0.495079</td>\n",
       "      <td>0.842738</td>\n",
       "      <td>0.316221</td>\n",
       "      <td>0.250502</td>\n",
       "      <td>0.506621</td>\n",
       "      <td>0.087334</td>\n",
       "    </tr>\n",
       "    <tr>\n",
       "      <th>3</th>\n",
       "      <td>2272312.020</td>\n",
       "      <td>12008.44648</td>\n",
       "      <td>0.014032</td>\n",
       "      <td>0.3796</td>\n",
       "      <td>1539</td>\n",
       "      <td>43969.23758</td>\n",
       "      <td>0.0850</td>\n",
       "      <td>0.0850</td>\n",
       "      <td>0.0000</td>\n",
       "      <td>193146.5217</td>\n",
       "      <td>...</td>\n",
       "      <td>-410.248171</td>\n",
       "      <td>-410.248171</td>\n",
       "      <td>0.000100</td>\n",
       "      <td>0.022490</td>\n",
       "      <td>0.437155</td>\n",
       "      <td>0.858364</td>\n",
       "      <td>0.337589</td>\n",
       "      <td>0.221193</td>\n",
       "      <td>0.119585</td>\n",
       "      <td>0.178022</td>\n",
       "    </tr>\n",
       "    <tr>\n",
       "      <th>4</th>\n",
       "      <td>1707450.764</td>\n",
       "      <td>33754.79796</td>\n",
       "      <td>0.097223</td>\n",
       "      <td>0.2000</td>\n",
       "      <td>755</td>\n",
       "      <td>28521.49497</td>\n",
       "      <td>0.0750</td>\n",
       "      <td>0.0800</td>\n",
       "      <td>0.0050</td>\n",
       "      <td>136596.0612</td>\n",
       "      <td>...</td>\n",
       "      <td>-430.005307</td>\n",
       "      <td>-430.005307</td>\n",
       "      <td>0.000031</td>\n",
       "      <td>0.012607</td>\n",
       "      <td>0.328485</td>\n",
       "      <td>0.842738</td>\n",
       "      <td>0.316221</td>\n",
       "      <td>0.143481</td>\n",
       "      <td>0.336143</td>\n",
       "      <td>0.087334</td>\n",
       "    </tr>\n",
       "  </tbody>\n",
       "</table>\n",
       "<p>5 rows × 47 columns</p>\n",
       "</div>"
      ],
      "text/plain": [
       "        Saldo$  PE_30.04.2024  PD_MAX_2024_04_30  LGD_MAX_2024_04_30  \\\n",
       "0  3724668.653    99427.84220           0.075018              0.3500   \n",
       "1  2902574.199   100418.02520           0.097223              0.3500   \n",
       "2  2573399.796    50873.84772           0.097223              0.2000   \n",
       "3  2272312.020    12008.44648           0.014032              0.3796   \n",
       "4  1707450.764    33754.79796           0.097223              0.2000   \n",
       "\n",
       "   PlazoRestante(Dias)  Reserva Especifica$   Ab_24  Tasa_Propuesta    bps%  \\\n",
       "0                 4748          72351.20216  0.0750          0.0775  0.0025   \n",
       "1                 5417          56339.50477  0.0775          0.0800  0.0025   \n",
       "2                  755          49795.28605  0.0750          0.0800  0.0050   \n",
       "3                 1539          43969.23758  0.0850          0.0850  0.0000   \n",
       "4                  755          28521.49497  0.0750          0.0800  0.0050   \n",
       "\n",
       "   IntAnual_TasaPropuesta  ...  FTP_capp_BC  FTP_capp_YJ  TIR_capp_cuad  \\\n",
       "0             288661.8206  ...  -383.347027  -383.347027       0.000037   \n",
       "1             232205.9359  ...  -383.347027  -383.347027       0.000066   \n",
       "2             205871.9837  ...  -430.005307  -430.005307       0.000031   \n",
       "3             193146.5217  ...  -410.248171  -410.248171       0.000100   \n",
       "4             136596.0612  ...  -430.005307  -430.005307       0.000031   \n",
       "\n",
       "   TIR_capp_cuad_minMaxScaled  Saldo$_capp_cuad_minMaxScaled  \\\n",
       "0                    0.013661                       0.716564   \n",
       "1                    0.018281                       0.558406   \n",
       "2                    0.012580                       0.495079   \n",
       "3                    0.022490                       0.437155   \n",
       "4                    0.012607                       0.328485   \n",
       "\n",
       "   FTP_capp_cuad_minMaxScaled  Tasa_Propuesta_capp_cuad_minMaxScaled  \\\n",
       "0                    0.922326                               0.305537   \n",
       "1                    0.935660                               0.316221   \n",
       "2                    0.842738                               0.316221   \n",
       "3                    0.858364                               0.337589   \n",
       "4                    0.842738                               0.316221   \n",
       "\n",
       "   Reserva Especifica$_capp_cuad_minMaxScaled  \\\n",
       "0                                    0.363972   \n",
       "1                                    0.283423   \n",
       "2                                    0.250502   \n",
       "3                                    0.221193   \n",
       "4                                    0.143481   \n",
       "\n",
       "   PE_30.04.2024_capp_cuad_minMaxScaled  \\\n",
       "0                              0.990139   \n",
       "1                              1.000000   \n",
       "2                              0.506621   \n",
       "3                              0.119585   \n",
       "4                              0.336143   \n",
       "\n",
       "   PlazoRestante(Dias)_capp_cuad_minMaxScaled  \n",
       "0                                    0.549219  \n",
       "1                                    0.626605  \n",
       "2                                    0.087334  \n",
       "3                                    0.178022  \n",
       "4                                    0.087334  \n",
       "\n",
       "[5 rows x 47 columns]"
      ]
     },
     "execution_count": 6,
     "metadata": {},
     "output_type": "execute_result"
    }
   ],
   "source": [
    "df = df_Loans.drop(columns=['Desembolso','Vencimiento','FechaReporte'])\n",
    "\n",
    "df.head()"
   ]
  },
  {
   "cell_type": "code",
   "execution_count": 7,
   "metadata": {},
   "outputs": [
    {
     "data": {
      "text/plain": [
       "SegmentoComercial\n",
       "3    0.853849\n",
       "1    0.061369\n",
       "0    0.047535\n",
       "2    0.034409\n",
       "4    0.002838\n",
       "Name: proportion, dtype: float64"
      ]
     },
     "execution_count": 7,
     "metadata": {},
     "output_type": "execute_result"
    }
   ],
   "source": [
    "df['SegmentoComercial'].value_counts(normalize=True)\n",
    "\n",
    "#Recordando los segmentos:\n",
    "#{0: '1_INMOBILIARIA', 1: '2_NEGOCIO', 2: '3_COMERCIAL', 3: '4_RETAIL', 4: '5_INTERCOMPANY'}"
   ]
  },
  {
   "cell_type": "markdown",
   "metadata": {},
   "source": [
    "# 4. Balanceo de clases en target"
   ]
  },
  {
   "cell_type": "code",
   "execution_count": 8,
   "metadata": {},
   "outputs": [
    {
     "data": {
      "text/plain": [
       "(134, 47)"
      ]
     },
     "execution_count": 8,
     "metadata": {},
     "output_type": "execute_result"
    }
   ],
   "source": [
    "dataPositiva = df[df['SegmentoComercial'] == 0]\n",
    "dataPositiva.shape"
   ]
  },
  {
   "cell_type": "code",
   "execution_count": 9,
   "metadata": {},
   "outputs": [
    {
     "data": {
      "text/plain": [
       "(2407, 47)"
      ]
     },
     "execution_count": 9,
     "metadata": {},
     "output_type": "execute_result"
    }
   ],
   "source": [
    "dataNegativa = df[df['SegmentoComercial'] == 3]\n",
    "dataNegativa.shape"
   ]
  },
  {
   "cell_type": "code",
   "execution_count": 10,
   "metadata": {},
   "outputs": [
    {
     "data": {
      "text/plain": [
       "(268, 47)"
      ]
     },
     "execution_count": 10,
     "metadata": {},
     "output_type": "execute_result"
    }
   ],
   "source": [
    "n = 2*dataPositiva.shape[0]\n",
    "dataNegativa = dataNegativa.sample(n, random_state=2024, replace = False)\n",
    "\n",
    "dataNegativa.shape"
   ]
  },
  {
   "cell_type": "code",
   "execution_count": 11,
   "metadata": {},
   "outputs": [
    {
     "data": {
      "text/plain": [
       "(402, 47)"
      ]
     },
     "execution_count": 11,
     "metadata": {},
     "output_type": "execute_result"
    }
   ],
   "source": [
    "completeData = pd.concat([dataPositiva,dataNegativa])\n",
    "completeData = completeData.sample(len(completeData), replace = False, random_state = 2025) #shuffle - mezclar datos aleatoriamente\n",
    "\n",
    "completeData.shape"
   ]
  },
  {
   "cell_type": "code",
   "execution_count": 12,
   "metadata": {},
   "outputs": [
    {
     "data": {
      "text/plain": [
       "SegmentoComercial\n",
       "3    0.666667\n",
       "0    0.333333\n",
       "Name: proportion, dtype: float64"
      ]
     },
     "execution_count": 12,
     "metadata": {},
     "output_type": "execute_result"
    }
   ],
   "source": [
    "completeData['SegmentoComercial'].value_counts(normalize=True)"
   ]
  },
  {
   "cell_type": "code",
   "execution_count": 13,
   "metadata": {},
   "outputs": [],
   "source": [
    "def encode_target(value):\n",
    "    if(value == 0):\n",
    "        return 1\n",
    "    else:\n",
    "        return 0"
   ]
  },
  {
   "cell_type": "code",
   "execution_count": 14,
   "metadata": {},
   "outputs": [
    {
     "data": {
      "text/html": [
       "<div>\n",
       "<style scoped>\n",
       "    .dataframe tbody tr th:only-of-type {\n",
       "        vertical-align: middle;\n",
       "    }\n",
       "\n",
       "    .dataframe tbody tr th {\n",
       "        vertical-align: top;\n",
       "    }\n",
       "\n",
       "    .dataframe thead th {\n",
       "        text-align: right;\n",
       "    }\n",
       "</style>\n",
       "<table border=\"1\" class=\"dataframe\">\n",
       "  <thead>\n",
       "    <tr style=\"text-align: right;\">\n",
       "      <th></th>\n",
       "      <th>Saldo$</th>\n",
       "      <th>PE_30.04.2024</th>\n",
       "      <th>PD_MAX_2024_04_30</th>\n",
       "      <th>LGD_MAX_2024_04_30</th>\n",
       "      <th>PlazoRestante(Dias)</th>\n",
       "      <th>Reserva Especifica$</th>\n",
       "      <th>Ab_24</th>\n",
       "      <th>Tasa_Propuesta</th>\n",
       "      <th>bps%</th>\n",
       "      <th>IntAnual_TasaPropuesta</th>\n",
       "      <th>...</th>\n",
       "      <th>FTP_capp_BC</th>\n",
       "      <th>FTP_capp_YJ</th>\n",
       "      <th>TIR_capp_cuad</th>\n",
       "      <th>TIR_capp_cuad_minMaxScaled</th>\n",
       "      <th>Saldo$_capp_cuad_minMaxScaled</th>\n",
       "      <th>FTP_capp_cuad_minMaxScaled</th>\n",
       "      <th>Tasa_Propuesta_capp_cuad_minMaxScaled</th>\n",
       "      <th>Reserva Especifica$_capp_cuad_minMaxScaled</th>\n",
       "      <th>PE_30.04.2024_capp_cuad_minMaxScaled</th>\n",
       "      <th>PlazoRestante(Dias)_capp_cuad_minMaxScaled</th>\n",
       "    </tr>\n",
       "  </thead>\n",
       "  <tbody>\n",
       "    <tr>\n",
       "      <th>127</th>\n",
       "      <td>52367.078750</td>\n",
       "      <td>246.190823</td>\n",
       "      <td>0.008579</td>\n",
       "      <td>0.5500</td>\n",
       "      <td>610</td>\n",
       "      <td>1688.385732</td>\n",
       "      <td>0.0800</td>\n",
       "      <td>0.0850</td>\n",
       "      <td>0.0050</td>\n",
       "      <td>4451.201694</td>\n",
       "      <td>...</td>\n",
       "      <td>-433.800695</td>\n",
       "      <td>-433.800695</td>\n",
       "      <td>0.000091</td>\n",
       "      <td>0.021482</td>\n",
       "      <td>0.010075</td>\n",
       "      <td>0.839848</td>\n",
       "      <td>0.337589</td>\n",
       "      <td>0.008494</td>\n",
       "      <td>0.002452</td>\n",
       "      <td>0.070561</td>\n",
       "    </tr>\n",
       "    <tr>\n",
       "      <th>2705</th>\n",
       "      <td>121604.140000</td>\n",
       "      <td>571.679921</td>\n",
       "      <td>0.008579</td>\n",
       "      <td>0.5500</td>\n",
       "      <td>6635</td>\n",
       "      <td>3739.146043</td>\n",
       "      <td>0.0725</td>\n",
       "      <td>0.0775</td>\n",
       "      <td>0.0050</td>\n",
       "      <td>9424.320850</td>\n",
       "      <td>...</td>\n",
       "      <td>-441.168289</td>\n",
       "      <td>-441.168289</td>\n",
       "      <td>0.000096</td>\n",
       "      <td>0.022090</td>\n",
       "      <td>0.023395</td>\n",
       "      <td>0.834335</td>\n",
       "      <td>0.305537</td>\n",
       "      <td>0.018810</td>\n",
       "      <td>0.005693</td>\n",
       "      <td>0.767496</td>\n",
       "    </tr>\n",
       "    <tr>\n",
       "      <th>88</th>\n",
       "      <td>2506.245641</td>\n",
       "      <td>0.000000</td>\n",
       "      <td>0.005313</td>\n",
       "      <td>0.3000</td>\n",
       "      <td>214</td>\n",
       "      <td>29.080704</td>\n",
       "      <td>0.1150</td>\n",
       "      <td>0.1150</td>\n",
       "      <td>0.0000</td>\n",
       "      <td>288.218249</td>\n",
       "      <td>...</td>\n",
       "      <td>-444.401318</td>\n",
       "      <td>-444.401318</td>\n",
       "      <td>0.001275</td>\n",
       "      <td>0.080480</td>\n",
       "      <td>0.000482</td>\n",
       "      <td>0.831955</td>\n",
       "      <td>0.465798</td>\n",
       "      <td>0.000146</td>\n",
       "      <td>0.000000</td>\n",
       "      <td>0.024754</td>\n",
       "    </tr>\n",
       "    <tr>\n",
       "      <th>2692</th>\n",
       "      <td>274999.570000</td>\n",
       "      <td>3607.025497</td>\n",
       "      <td>0.035232</td>\n",
       "      <td>0.3796</td>\n",
       "      <td>426</td>\n",
       "      <td>5334.818614</td>\n",
       "      <td>0.0800</td>\n",
       "      <td>0.0900</td>\n",
       "      <td>0.0100</td>\n",
       "      <td>24749.961300</td>\n",
       "      <td>...</td>\n",
       "      <td>-475.174352</td>\n",
       "      <td>-475.174352</td>\n",
       "      <td>0.000115</td>\n",
       "      <td>0.024143</td>\n",
       "      <td>0.052905</td>\n",
       "      <td>0.727191</td>\n",
       "      <td>0.358957</td>\n",
       "      <td>0.026837</td>\n",
       "      <td>0.035920</td>\n",
       "      <td>0.049277</td>\n",
       "    </tr>\n",
       "    <tr>\n",
       "      <th>2702</th>\n",
       "      <td>134166.700000</td>\n",
       "      <td>252.950487</td>\n",
       "      <td>0.004982</td>\n",
       "      <td>0.3796</td>\n",
       "      <td>7000</td>\n",
       "      <td>2614.065946</td>\n",
       "      <td>0.0750</td>\n",
       "      <td>0.0775</td>\n",
       "      <td>0.0025</td>\n",
       "      <td>10397.919250</td>\n",
       "      <td>...</td>\n",
       "      <td>-432.764841</td>\n",
       "      <td>-432.764841</td>\n",
       "      <td>0.000096</td>\n",
       "      <td>0.022032</td>\n",
       "      <td>0.025811</td>\n",
       "      <td>0.840633</td>\n",
       "      <td>0.305537</td>\n",
       "      <td>0.013150</td>\n",
       "      <td>0.002519</td>\n",
       "      <td>0.809717</td>\n",
       "    </tr>\n",
       "  </tbody>\n",
       "</table>\n",
       "<p>5 rows × 47 columns</p>\n",
       "</div>"
      ],
      "text/plain": [
       "             Saldo$  PE_30.04.2024  PD_MAX_2024_04_30  LGD_MAX_2024_04_30  \\\n",
       "127    52367.078750     246.190823           0.008579              0.5500   \n",
       "2705  121604.140000     571.679921           0.008579              0.5500   \n",
       "88      2506.245641       0.000000           0.005313              0.3000   \n",
       "2692  274999.570000    3607.025497           0.035232              0.3796   \n",
       "2702  134166.700000     252.950487           0.004982              0.3796   \n",
       "\n",
       "      PlazoRestante(Dias)  Reserva Especifica$   Ab_24  Tasa_Propuesta  \\\n",
       "127                   610          1688.385732  0.0800          0.0850   \n",
       "2705                 6635          3739.146043  0.0725          0.0775   \n",
       "88                    214            29.080704  0.1150          0.1150   \n",
       "2692                  426          5334.818614  0.0800          0.0900   \n",
       "2702                 7000          2614.065946  0.0750          0.0775   \n",
       "\n",
       "        bps%  IntAnual_TasaPropuesta  ...  FTP_capp_BC  FTP_capp_YJ  \\\n",
       "127   0.0050             4451.201694  ...  -433.800695  -433.800695   \n",
       "2705  0.0050             9424.320850  ...  -441.168289  -441.168289   \n",
       "88    0.0000              288.218249  ...  -444.401318  -444.401318   \n",
       "2692  0.0100            24749.961300  ...  -475.174352  -475.174352   \n",
       "2702  0.0025            10397.919250  ...  -432.764841  -432.764841   \n",
       "\n",
       "      TIR_capp_cuad  TIR_capp_cuad_minMaxScaled  \\\n",
       "127        0.000091                    0.021482   \n",
       "2705       0.000096                    0.022090   \n",
       "88         0.001275                    0.080480   \n",
       "2692       0.000115                    0.024143   \n",
       "2702       0.000096                    0.022032   \n",
       "\n",
       "      Saldo$_capp_cuad_minMaxScaled  FTP_capp_cuad_minMaxScaled  \\\n",
       "127                        0.010075                    0.839848   \n",
       "2705                       0.023395                    0.834335   \n",
       "88                         0.000482                    0.831955   \n",
       "2692                       0.052905                    0.727191   \n",
       "2702                       0.025811                    0.840633   \n",
       "\n",
       "      Tasa_Propuesta_capp_cuad_minMaxScaled  \\\n",
       "127                                0.337589   \n",
       "2705                               0.305537   \n",
       "88                                 0.465798   \n",
       "2692                               0.358957   \n",
       "2702                               0.305537   \n",
       "\n",
       "      Reserva Especifica$_capp_cuad_minMaxScaled  \\\n",
       "127                                     0.008494   \n",
       "2705                                    0.018810   \n",
       "88                                      0.000146   \n",
       "2692                                    0.026837   \n",
       "2702                                    0.013150   \n",
       "\n",
       "      PE_30.04.2024_capp_cuad_minMaxScaled  \\\n",
       "127                               0.002452   \n",
       "2705                              0.005693   \n",
       "88                                0.000000   \n",
       "2692                              0.035920   \n",
       "2702                              0.002519   \n",
       "\n",
       "      PlazoRestante(Dias)_capp_cuad_minMaxScaled  \n",
       "127                                     0.070561  \n",
       "2705                                    0.767496  \n",
       "88                                      0.024754  \n",
       "2692                                    0.049277  \n",
       "2702                                    0.809717  \n",
       "\n",
       "[5 rows x 47 columns]"
      ]
     },
     "execution_count": 14,
     "metadata": {},
     "output_type": "execute_result"
    }
   ],
   "source": [
    "completeData['SegmentoComercial'] = completeData['SegmentoComercial'].map(encode_target)\n",
    "completeData.head()"
   ]
  },
  {
   "cell_type": "markdown",
   "metadata": {},
   "source": [
    "# 5. Construcción de Modelos"
   ]
  },
  {
   "cell_type": "code",
   "execution_count": 16,
   "metadata": {},
   "outputs": [],
   "source": [
    "# modelos\n",
    "from sklearn.linear_model import LogisticRegression\n",
    "from sklearn.naive_bayes import GaussianNB\n",
    "from sklearn.ensemble import RandomForestClassifier\n",
    "from sklearn.svm import SVC\n",
    "from sklearn.discriminant_analysis import LinearDiscriminantAnalysis\n",
    "from sklearn.discriminant_analysis import QuadraticDiscriminantAnalysis\n",
    "from sklearn.tree import DecisionTreeClassifier\n",
    "from sklearn.ensemble import AdaBoostClassifier\n",
    "from sklearn.ensemble import GradientBoostingClassifier\n",
    "import xgboost as xgb\n",
    "import lightgbm as lgb\n",
    "from sklearn.metrics import roc_curve, auc\n",
    "from sklearn.model_selection import GridSearchCV #para hiper-parámetros\n",
    "\n",
    "# metricas\n",
    "from sklearn.metrics import accuracy_score\n",
    "from sklearn.metrics import roc_auc_score\n",
    "\n",
    "# gestion train-test\n",
    "from sklearn.model_selection import train_test_split\n",
    "\n",
    "# transformaciones\n",
    "from sklearn.preprocessing import MinMaxScaler\n",
    "from sklearn.preprocessing import LabelEncoder\n",
    "from sklearn.preprocessing import StandardScaler"
   ]
  },
  {
   "cell_type": "code",
   "execution_count": 17,
   "metadata": {},
   "outputs": [
    {
     "data": {
      "text/html": [
       "<div>\n",
       "<style scoped>\n",
       "    .dataframe tbody tr th:only-of-type {\n",
       "        vertical-align: middle;\n",
       "    }\n",
       "\n",
       "    .dataframe tbody tr th {\n",
       "        vertical-align: top;\n",
       "    }\n",
       "\n",
       "    .dataframe thead th {\n",
       "        text-align: right;\n",
       "    }\n",
       "</style>\n",
       "<table border=\"1\" class=\"dataframe\">\n",
       "  <thead>\n",
       "    <tr style=\"text-align: right;\">\n",
       "      <th></th>\n",
       "      <th>Saldo$</th>\n",
       "      <th>PE_30.04.2024</th>\n",
       "      <th>PD_MAX_2024_04_30</th>\n",
       "      <th>LGD_MAX_2024_04_30</th>\n",
       "      <th>PlazoRestante(Dias)</th>\n",
       "      <th>Reserva Especifica$</th>\n",
       "      <th>Ab_24</th>\n",
       "      <th>Tasa_Propuesta</th>\n",
       "      <th>bps%</th>\n",
       "      <th>IntAnual_TasaPropuesta</th>\n",
       "      <th>...</th>\n",
       "      <th>FTP_capp_BC</th>\n",
       "      <th>FTP_capp_YJ</th>\n",
       "      <th>TIR_capp_cuad</th>\n",
       "      <th>TIR_capp_cuad_minMaxScaled</th>\n",
       "      <th>Saldo$_capp_cuad_minMaxScaled</th>\n",
       "      <th>FTP_capp_cuad_minMaxScaled</th>\n",
       "      <th>Tasa_Propuesta_capp_cuad_minMaxScaled</th>\n",
       "      <th>Reserva Especifica$_capp_cuad_minMaxScaled</th>\n",
       "      <th>PE_30.04.2024_capp_cuad_minMaxScaled</th>\n",
       "      <th>PlazoRestante(Dias)_capp_cuad_minMaxScaled</th>\n",
       "    </tr>\n",
       "  </thead>\n",
       "  <tbody>\n",
       "    <tr>\n",
       "      <th>127</th>\n",
       "      <td>52367.078750</td>\n",
       "      <td>246.190823</td>\n",
       "      <td>0.008579</td>\n",
       "      <td>0.5500</td>\n",
       "      <td>610</td>\n",
       "      <td>1688.385732</td>\n",
       "      <td>0.0800</td>\n",
       "      <td>0.0850</td>\n",
       "      <td>0.0050</td>\n",
       "      <td>4451.201694</td>\n",
       "      <td>...</td>\n",
       "      <td>-433.800695</td>\n",
       "      <td>-433.800695</td>\n",
       "      <td>0.000091</td>\n",
       "      <td>0.021482</td>\n",
       "      <td>0.010075</td>\n",
       "      <td>0.839848</td>\n",
       "      <td>0.337589</td>\n",
       "      <td>0.008494</td>\n",
       "      <td>0.002452</td>\n",
       "      <td>0.070561</td>\n",
       "    </tr>\n",
       "    <tr>\n",
       "      <th>2705</th>\n",
       "      <td>121604.140000</td>\n",
       "      <td>571.679921</td>\n",
       "      <td>0.008579</td>\n",
       "      <td>0.5500</td>\n",
       "      <td>6635</td>\n",
       "      <td>3739.146043</td>\n",
       "      <td>0.0725</td>\n",
       "      <td>0.0775</td>\n",
       "      <td>0.0050</td>\n",
       "      <td>9424.320850</td>\n",
       "      <td>...</td>\n",
       "      <td>-441.168289</td>\n",
       "      <td>-441.168289</td>\n",
       "      <td>0.000096</td>\n",
       "      <td>0.022090</td>\n",
       "      <td>0.023395</td>\n",
       "      <td>0.834335</td>\n",
       "      <td>0.305537</td>\n",
       "      <td>0.018810</td>\n",
       "      <td>0.005693</td>\n",
       "      <td>0.767496</td>\n",
       "    </tr>\n",
       "    <tr>\n",
       "      <th>88</th>\n",
       "      <td>2506.245641</td>\n",
       "      <td>0.000000</td>\n",
       "      <td>0.005313</td>\n",
       "      <td>0.3000</td>\n",
       "      <td>214</td>\n",
       "      <td>29.080704</td>\n",
       "      <td>0.1150</td>\n",
       "      <td>0.1150</td>\n",
       "      <td>0.0000</td>\n",
       "      <td>288.218249</td>\n",
       "      <td>...</td>\n",
       "      <td>-444.401318</td>\n",
       "      <td>-444.401318</td>\n",
       "      <td>0.001275</td>\n",
       "      <td>0.080480</td>\n",
       "      <td>0.000482</td>\n",
       "      <td>0.831955</td>\n",
       "      <td>0.465798</td>\n",
       "      <td>0.000146</td>\n",
       "      <td>0.000000</td>\n",
       "      <td>0.024754</td>\n",
       "    </tr>\n",
       "    <tr>\n",
       "      <th>2692</th>\n",
       "      <td>274999.570000</td>\n",
       "      <td>3607.025497</td>\n",
       "      <td>0.035232</td>\n",
       "      <td>0.3796</td>\n",
       "      <td>426</td>\n",
       "      <td>5334.818614</td>\n",
       "      <td>0.0800</td>\n",
       "      <td>0.0900</td>\n",
       "      <td>0.0100</td>\n",
       "      <td>24749.961300</td>\n",
       "      <td>...</td>\n",
       "      <td>-475.174352</td>\n",
       "      <td>-475.174352</td>\n",
       "      <td>0.000115</td>\n",
       "      <td>0.024143</td>\n",
       "      <td>0.052905</td>\n",
       "      <td>0.727191</td>\n",
       "      <td>0.358957</td>\n",
       "      <td>0.026837</td>\n",
       "      <td>0.035920</td>\n",
       "      <td>0.049277</td>\n",
       "    </tr>\n",
       "    <tr>\n",
       "      <th>2702</th>\n",
       "      <td>134166.700000</td>\n",
       "      <td>252.950487</td>\n",
       "      <td>0.004982</td>\n",
       "      <td>0.3796</td>\n",
       "      <td>7000</td>\n",
       "      <td>2614.065946</td>\n",
       "      <td>0.0750</td>\n",
       "      <td>0.0775</td>\n",
       "      <td>0.0025</td>\n",
       "      <td>10397.919250</td>\n",
       "      <td>...</td>\n",
       "      <td>-432.764841</td>\n",
       "      <td>-432.764841</td>\n",
       "      <td>0.000096</td>\n",
       "      <td>0.022032</td>\n",
       "      <td>0.025811</td>\n",
       "      <td>0.840633</td>\n",
       "      <td>0.305537</td>\n",
       "      <td>0.013150</td>\n",
       "      <td>0.002519</td>\n",
       "      <td>0.809717</td>\n",
       "    </tr>\n",
       "  </tbody>\n",
       "</table>\n",
       "<p>5 rows × 47 columns</p>\n",
       "</div>"
      ],
      "text/plain": [
       "             Saldo$  PE_30.04.2024  PD_MAX_2024_04_30  LGD_MAX_2024_04_30  \\\n",
       "127    52367.078750     246.190823           0.008579              0.5500   \n",
       "2705  121604.140000     571.679921           0.008579              0.5500   \n",
       "88      2506.245641       0.000000           0.005313              0.3000   \n",
       "2692  274999.570000    3607.025497           0.035232              0.3796   \n",
       "2702  134166.700000     252.950487           0.004982              0.3796   \n",
       "\n",
       "      PlazoRestante(Dias)  Reserva Especifica$   Ab_24  Tasa_Propuesta  \\\n",
       "127                   610          1688.385732  0.0800          0.0850   \n",
       "2705                 6635          3739.146043  0.0725          0.0775   \n",
       "88                    214            29.080704  0.1150          0.1150   \n",
       "2692                  426          5334.818614  0.0800          0.0900   \n",
       "2702                 7000          2614.065946  0.0750          0.0775   \n",
       "\n",
       "        bps%  IntAnual_TasaPropuesta  ...  FTP_capp_BC  FTP_capp_YJ  \\\n",
       "127   0.0050             4451.201694  ...  -433.800695  -433.800695   \n",
       "2705  0.0050             9424.320850  ...  -441.168289  -441.168289   \n",
       "88    0.0000              288.218249  ...  -444.401318  -444.401318   \n",
       "2692  0.0100            24749.961300  ...  -475.174352  -475.174352   \n",
       "2702  0.0025            10397.919250  ...  -432.764841  -432.764841   \n",
       "\n",
       "      TIR_capp_cuad  TIR_capp_cuad_minMaxScaled  \\\n",
       "127        0.000091                    0.021482   \n",
       "2705       0.000096                    0.022090   \n",
       "88         0.001275                    0.080480   \n",
       "2692       0.000115                    0.024143   \n",
       "2702       0.000096                    0.022032   \n",
       "\n",
       "      Saldo$_capp_cuad_minMaxScaled  FTP_capp_cuad_minMaxScaled  \\\n",
       "127                        0.010075                    0.839848   \n",
       "2705                       0.023395                    0.834335   \n",
       "88                         0.000482                    0.831955   \n",
       "2692                       0.052905                    0.727191   \n",
       "2702                       0.025811                    0.840633   \n",
       "\n",
       "      Tasa_Propuesta_capp_cuad_minMaxScaled  \\\n",
       "127                                0.337589   \n",
       "2705                               0.305537   \n",
       "88                                 0.465798   \n",
       "2692                               0.358957   \n",
       "2702                               0.305537   \n",
       "\n",
       "      Reserva Especifica$_capp_cuad_minMaxScaled  \\\n",
       "127                                     0.008494   \n",
       "2705                                    0.018810   \n",
       "88                                      0.000146   \n",
       "2692                                    0.026837   \n",
       "2702                                    0.013150   \n",
       "\n",
       "      PE_30.04.2024_capp_cuad_minMaxScaled  \\\n",
       "127                               0.002452   \n",
       "2705                              0.005693   \n",
       "88                                0.000000   \n",
       "2692                              0.035920   \n",
       "2702                              0.002519   \n",
       "\n",
       "      PlazoRestante(Dias)_capp_cuad_minMaxScaled  \n",
       "127                                     0.070561  \n",
       "2705                                    0.767496  \n",
       "88                                      0.024754  \n",
       "2692                                    0.049277  \n",
       "2702                                    0.809717  \n",
       "\n",
       "[5 rows x 47 columns]"
      ]
     },
     "execution_count": 17,
     "metadata": {},
     "output_type": "execute_result"
    }
   ],
   "source": [
    "completeData.head()"
   ]
  },
  {
   "cell_type": "code",
   "execution_count": 18,
   "metadata": {},
   "outputs": [],
   "source": [
    "# seleccionamos el target y features\n",
    "X = completeData.drop('SegmentoComercial', axis = 1)\n",
    "y = completeData['SegmentoComercial']"
   ]
  },
  {
   "cell_type": "code",
   "execution_count": 19,
   "metadata": {},
   "outputs": [],
   "source": [
    "# split para train y test\n",
    "X_train, X_test, y_train, y_test = train_test_split(X,y, test_size=0.3, random_state=2025,shuffle=True)"
   ]
  },
  {
   "cell_type": "code",
   "execution_count": 20,
   "metadata": {},
   "outputs": [],
   "source": [
    "# creamos el scaler\n",
    "scaler = MinMaxScaler()\n",
    "\n",
    "scaler.fit(X_train) #calculamos el scaler\n",
    "\n",
    "X_train_scaled = scaler.transform(X_train)\n",
    "X_test_scaled = scaler.transform(X_test)"
   ]
  },
  {
   "cell_type": "markdown",
   "metadata": {},
   "source": [
    "## 5.1 Naive Bayes"
   ]
  },
  {
   "cell_type": "code",
   "execution_count": null,
   "metadata": {},
   "outputs": [],
   "source": [
    "NB_Classifier = GaussianNB()\n",
    "NB_Classifier.fit(X_train_scaled, y_train) #Entrenamiento del modelo\n",
    "\n",
    "nb_predicts = NB_Classifier.predict(X_test_scaled) #predicciones\n",
    "roc_auc = roc_auc_score(nb_predicts, y_test)\n",
    "\n",
    "print(\"Roc_Auc Score:\", roc_auc)\n",
    "print(\"Accuracy:\", accuracy_score(y_test, nb_predicts))"
   ]
  },
  {
   "cell_type": "code",
   "execution_count": null,
   "metadata": {},
   "outputs": [],
   "source": [
    "nb_predicts"
   ]
  },
  {
   "cell_type": "code",
   "execution_count": null,
   "metadata": {},
   "outputs": [],
   "source": [
    "np.array(y_test)"
   ]
  },
  {
   "cell_type": "markdown",
   "metadata": {},
   "source": [
    "### 5.1.1 Naive Bayes Optimización con Hyper Parámetros"
   ]
  },
  {
   "cell_type": "code",
   "execution_count": null,
   "metadata": {},
   "outputs": [],
   "source": [
    "# Crear el clasificador\n",
    "nb_classifier = GaussianNB()\n",
    "\n",
    "# Definir el grid de hiperparámetros\n",
    "hyper_params_grid = {\n",
    "    \"var_smoothing\": [1e-9, 1e-8, 1e-7, 1e-6, 1e-5]\n",
    "}\n",
    "\n",
    "# Configuración para la optimización de hiperparámetros\n",
    "nb_hyp_opt = GridSearchCV(estimator=nb_classifier, param_grid=hyper_params_grid, cv=10, scoring=\"roc_auc\")\n",
    "\n",
    "# Entrenar el modelo\n",
    "nb_hyp_opt.fit(X_train_scaled, y_train)\n",
    "\n",
    "# Mostrar los mejores hiperparámetros\n",
    "print(\"Mejores hiperparámetros:\", nb_hyp_opt.best_params_)"
   ]
  },
  {
   "cell_type": "code",
   "execution_count": null,
   "metadata": {},
   "outputs": [],
   "source": [
    "# score del mejor modelo\n",
    "nb_hyp_opt.best_score_"
   ]
  },
  {
   "cell_type": "code",
   "execution_count": null,
   "metadata": {},
   "outputs": [],
   "source": [
    "pd.DataFrame(nb_hyp_opt.cv_results_).sort_values(\"rank_test_score\", ascending=True)[['rank_test_score', 'params', 'mean_test_score', 'std_test_score']]\n",
    "#nos mostrará un score de los mejores resultados"
   ]
  },
  {
   "cell_type": "markdown",
   "metadata": {},
   "source": [
    "## 5.2 LDA (Linear Discriminant Analysis)"
   ]
  },
  {
   "cell_type": "code",
   "execution_count": null,
   "metadata": {},
   "outputs": [],
   "source": [
    "LDA_Classifier = LinearDiscriminantAnalysis()\n",
    "LDA_Classifier.fit(X_train_scaled, y_train) #Entrenamiento del modelo\n",
    "\n",
    "LDA_predicts = LDA_Classifier.predict(X_test_scaled) #predicciones\n",
    "roc_auc = roc_auc_score(LDA_predicts, y_test)\n",
    "\n",
    "print(\"Roc_Auc Score:\", roc_auc)\n",
    "print(\"Accuracy:\", accuracy_score(y_test, LDA_predicts))"
   ]
  },
  {
   "cell_type": "code",
   "execution_count": null,
   "metadata": {},
   "outputs": [],
   "source": [
    "LDA_predicts"
   ]
  },
  {
   "cell_type": "code",
   "execution_count": null,
   "metadata": {},
   "outputs": [],
   "source": [
    "np.array(y_test)"
   ]
  },
  {
   "cell_type": "code",
   "execution_count": null,
   "metadata": {},
   "outputs": [],
   "source": [
    "# Obtener las probabilidades de la clase positiva (1)\n",
    "LDA_probabilities = LDA_Classifier.predict_proba(X_test_scaled)[:, 1]\n",
    "\n",
    "# Calcular la curva ROC\n",
    "fpr, tpr, thresholds = roc_curve(y_test, LDA_probabilities)\n",
    "roc_auc = auc(fpr, tpr)\n",
    "\n",
    "# Graficar la curva ROC\n",
    "plt.figure(figsize=(8, 6))\n",
    "plt.plot(fpr, tpr, color='blue', lw=2, label=f'ROC curve (AUC = {roc_auc:.2f})')\n",
    "plt.plot([0, 1], [0, 1], color='gray', linestyle='--')\n",
    "plt.xlim([0.0, 1.0])\n",
    "plt.ylim([0.0, 1.05])\n",
    "plt.xlabel('False Positive Rate (FPR)')\n",
    "plt.ylabel('True Positive Rate (TPR)')\n",
    "plt.title('Receiver Operating Characteristic (ROC) Curve')\n",
    "plt.legend(loc='lower right')\n",
    "plt.grid(True)\n",
    "plt.show()"
   ]
  },
  {
   "cell_type": "markdown",
   "metadata": {},
   "source": [
    "### 5.2.1 Optimización con hiperparámetros para LDA"
   ]
  },
  {
   "cell_type": "code",
   "execution_count": null,
   "metadata": {},
   "outputs": [],
   "source": [
    "from sklearn.discriminant_analysis import LinearDiscriminantAnalysis\n",
    "from sklearn.pipeline import Pipeline\n",
    "from sklearn.preprocessing import StandardScaler\n",
    "from sklearn.model_selection import GridSearchCV\n",
    "from sklearn.model_selection import train_test_split\n",
    "\n",
    "# Calcular el valor máximo permitido para n_components\n",
    "n_features = X_train.shape[1]\n",
    "n_classes = len(set(y_train))\n",
    "max_n_components = min(n_features, n_classes - 1)\n",
    "\n",
    "# Crear el pipeline que incluya la estandarización y el clasificador LDA\n",
    "pipeline = Pipeline([\n",
    "    ('scaler', StandardScaler()),\n",
    "    ('lda', LinearDiscriminantAnalysis())\n",
    "])\n",
    "\n",
    "# Definir el grid de hiperparámetros\n",
    "hyper_params_grid = [\n",
    "    {\"lda__solver\": ['svd'], \"lda__n_components\": [None] + list(range(1, max_n_components + 1))},\n",
    "    {\"lda__solver\": ['lsqr', 'eigen'], \"lda__shrinkage\": ['auto', 0.1, 0.5, 1.0], \"lda__n_components\": [None] + list(range(1, max_n_components + 1))}\n",
    "]\n",
    "\n",
    "# Configuración para la optimización de hiperparámetros\n",
    "lda_hyp_opt = GridSearchCV(estimator=pipeline, param_grid=hyper_params_grid, cv=3, scoring=\"roc_auc\", n_jobs=-1, error_score='raise')\n",
    "\n",
    "try:\n",
    "    # Entrenar el modelo\n",
    "    lda_hyp_opt.fit(X_train, y_train)\n",
    "    # Mostrar los mejores hiperparámetros\n",
    "    print(\"Mejores hiperparámetros:\", lda_hyp_opt.best_params_)\n",
    "    print(\"Mejor puntuación AUC-ROC:\", lda_hyp_opt.best_score_)\n",
    "except Exception as e:\n",
    "    print(f\"Error durante la búsqueda de hiperparámetros: {e}\")"
   ]
  },
  {
   "cell_type": "code",
   "execution_count": null,
   "metadata": {},
   "outputs": [],
   "source": [
    "# score del mejor modelo\n",
    "lda_hyp_opt.best_score_"
   ]
  },
  {
   "cell_type": "code",
   "execution_count": null,
   "metadata": {},
   "outputs": [],
   "source": [
    "pd.DataFrame(lda_hyp_opt.cv_results_).sort_values(\"rank_test_score\", ascending=True)[['rank_test_score', 'params', 'mean_test_score', 'std_test_score']]\n",
    "#nos mostrará un score de los mejores resultados"
   ]
  },
  {
   "cell_type": "markdown",
   "metadata": {},
   "source": [
    "## 5.3 Regresión logística"
   ]
  },
  {
   "cell_type": "code",
   "execution_count": null,
   "metadata": {},
   "outputs": [],
   "source": [
    "logit = LogisticRegression()\n",
    "logit.fit(X_train_scaled, y_train) #Entrenamiento del modelo\n",
    "\n",
    "logit_predicts = logit.predict(X_test_scaled) #predicciones\n",
    "roc_auc = roc_auc_score(logit_predicts, y_test)\n",
    "\n",
    "print(\"Roc_Auc Score:\", roc_auc)\n",
    "print(\"Accuracy:\", accuracy_score(y_test, logit_predicts))"
   ]
  },
  {
   "cell_type": "code",
   "execution_count": null,
   "metadata": {},
   "outputs": [],
   "source": [
    "logit_predicts"
   ]
  },
  {
   "cell_type": "code",
   "execution_count": null,
   "metadata": {},
   "outputs": [],
   "source": [
    "np.array(y_test)"
   ]
  },
  {
   "cell_type": "code",
   "execution_count": null,
   "metadata": {},
   "outputs": [],
   "source": [
    "intercept = logit.intercept_\n",
    "print(f'Intercepto: {intercept}')\n",
    "\n",
    "coefficients = logit.coef_\n",
    "print(f'Coeficientes: {coefficients}')"
   ]
  },
  {
   "cell_type": "code",
   "execution_count": null,
   "metadata": {},
   "outputs": [],
   "source": [
    "# Obtener las probabilidades de la clase positiva (1)\n",
    "logit_probabilities = logit.predict_proba(X_test_scaled)[:, 1]\n",
    "\n",
    "# Calcular la curva ROC\n",
    "fpr, tpr, thresholds = roc_curve(y_test, logit_probabilities)\n",
    "roc_auc = auc(fpr, tpr)\n",
    "\n",
    "# Graficar la curva ROC\n",
    "plt.figure(figsize=(8, 6))\n",
    "plt.plot(fpr, tpr, color='blue', lw=2, label=f'ROC curve (AUC = {roc_auc:.2f})')\n",
    "plt.plot([0, 1], [0, 1], color='gray', linestyle='--')\n",
    "plt.xlim([0.0, 1.0])\n",
    "plt.ylim([0.0, 1.05])\n",
    "plt.xlabel('False Positive Rate (FPR)')\n",
    "plt.ylabel('True Positive Rate (TPR)')\n",
    "plt.title('Receiver Operating Characteristic (ROC) Curve')\n",
    "plt.legend(loc='lower right')\n",
    "plt.grid(True)\n",
    "plt.show()"
   ]
  },
  {
   "cell_type": "markdown",
   "metadata": {},
   "source": [
    "### 5.3.1 Optimización con hyperparámetros"
   ]
  },
  {
   "cell_type": "code",
   "execution_count": null,
   "metadata": {},
   "outputs": [],
   "source": [
    "# Crear el clasificador\n",
    "lr_classifier = LogisticRegression(max_iter=1000)\n",
    "\n",
    "# Definir el grid de hiperparámetros\n",
    "hyper_params_grid = {\n",
    "    \"C\": [0.01, 0.1, 1, 10, 100],\n",
    "    \"penalty\": [\"l1\", \"l2\", \"elasticnet\", \"none\"],\n",
    "    \"solver\": [\"newton-cg\", \"lbfgs\", \"liblinear\", \"sag\", \"saga\"],\n",
    "    \"l1_ratio\": [0.1, 0.5, 0.7]  # Solo aplicable cuando penalty es 'elasticnet'\n",
    "}\n",
    "\n",
    "# Configuración para la optimización de hiperparámetros\n",
    "# Asegurarse de manejar combinaciones inválidas\n",
    "param_grid = [\n",
    "    {\"solver\": [\"newton-cg\", \"lbfgs\", \"sag\"], \"penalty\": [\"l2\"], \"C\": [0.01, 0.1, 1, 10, 100]},\n",
    "    {\"solver\": [\"liblinear\"], \"penalty\": [\"l1\", \"l2\"], \"C\": [0.01, 0.1, 1, 10, 100]},\n",
    "    {\"solver\": [\"saga\"], \"penalty\": [\"l1\", \"l2\", \"elasticnet\"], \"C\": [0.01, 0.1, 1, 10, 100], \"l1_ratio\": [0.1, 0.5, 0.7]},\n",
    "    {\"solver\": [\"saga\"], \"penalty\": [\"none\"]}\n",
    "]\n",
    "\n",
    "# Configuración para la optimización de hiperparámetros\n",
    "lr_hyp_opt = GridSearchCV(estimator=lr_classifier, param_grid=param_grid, cv=10, scoring=\"roc_auc\")\n",
    "\n",
    "# Entrenar el modelo\n",
    "lr_hyp_opt.fit(X_train_scaled, y_train)\n",
    "\n",
    "# Mostrar los mejores hiperparámetros\n",
    "print(\"Mejores hiperparámetros:\", lr_hyp_opt.best_params_)"
   ]
  },
  {
   "cell_type": "code",
   "execution_count": null,
   "metadata": {},
   "outputs": [],
   "source": [
    "# score del mejor modelo\n",
    "lr_hyp_opt.best_score_"
   ]
  },
  {
   "cell_type": "code",
   "execution_count": null,
   "metadata": {},
   "outputs": [],
   "source": [
    "pd.DataFrame(lr_hyp_opt.cv_results_).sort_values(\"rank_test_score\", ascending=True)[['rank_test_score', 'params', 'mean_test_score', 'std_test_score']]\n",
    "#nos mostrará un score de los mejores resultados"
   ]
  },
  {
   "cell_type": "markdown",
   "metadata": {},
   "source": [
    "## 5.4 SVM"
   ]
  },
  {
   "cell_type": "code",
   "execution_count": null,
   "metadata": {},
   "outputs": [],
   "source": [
    "svm = SVC(kernel='linear')\n",
    "svm.fit(X_train_scaled, y_train) #Entrenamiento del modelo\n",
    "\n",
    "svm_predicts = svm.predict(X_test_scaled) #predicciones\n",
    "roc_auc = roc_auc_score(svm_predicts, y_test)\n",
    "\n",
    "print(\"Roc_Auc Score:\", roc_auc)\n",
    "print(\"Accuracy:\", accuracy_score(y_test, svm_predicts))"
   ]
  },
  {
   "cell_type": "code",
   "execution_count": null,
   "metadata": {},
   "outputs": [],
   "source": [
    "svm_predicts"
   ]
  },
  {
   "cell_type": "code",
   "execution_count": null,
   "metadata": {},
   "outputs": [],
   "source": [
    "np.array(y_test)"
   ]
  },
  {
   "cell_type": "code",
   "execution_count": null,
   "metadata": {},
   "outputs": [],
   "source": [
    "from sklearn.decomposition import PCA\n",
    "# Ajustar PCA\n",
    "pca = PCA(n_components=2)\n",
    "X_train_pca = pca.fit_transform(X_train_scaled)\n",
    "X_test_pca = pca.transform(X_test_scaled)\n",
    "\n",
    "# Entrenar el modelo SVM con los datos reducidos\n",
    "svm = SVC(kernel='linear')\n",
    "svm.fit(X_train_pca, y_train)\n",
    "\n",
    "# Predecir con el modelo SVM ajustado\n",
    "svm_predicts = svm.predict(X_test_pca)\n",
    "roc_auc = roc_auc_score(y_test, svm_predicts)\n",
    "\n",
    "print(\"Roc_Auc Score:\", roc_auc)\n",
    "print(\"Accuracy:\", accuracy_score(y_test, svm_predicts))"
   ]
  },
  {
   "cell_type": "markdown",
   "metadata": {},
   "source": [
    "### 5.4.1 Gráfica de regiones de predicciones"
   ]
  },
  {
   "cell_type": "code",
   "execution_count": null,
   "metadata": {},
   "outputs": [],
   "source": [
    "# Crear una malla para trazar los límites de decisión\n",
    "h = 0.02  # tamaño del paso en la malla\n",
    "x_min, x_max = X_train_pca[:, 0].min() - 1, X_train_pca[:, 0].max() + 1\n",
    "y_min, y_max = X_train_pca[:, 1].min() - 1, X_train_pca[:, 1].max() + 1\n",
    "xx, yy = np.meshgrid(np.arange(x_min, x_max, h),\n",
    "                     np.arange(y_min, y_max, h))\n",
    "\n",
    "# Trazar el límite de decisión del SVM lineal\n",
    "Z_linear = svm.predict(np.c_[xx.ravel(), yy.ravel()])\n",
    "Z_linear = Z_linear.reshape(xx.shape)\n",
    "plt.contourf(xx, yy, Z_linear, cmap=plt.cm.Paired, alpha=0.8)\n",
    "plt.scatter(X_train_pca[:, 0], X_train_pca[:, 1], c=y_train, cmap=plt.cm.Paired)\n",
    "plt.title('Linear SVM con PCA')\n",
    "plt.xlabel('Componente Principal 1')\n",
    "plt.ylabel('Componente Principal 2')\n",
    "plt.xlim(xx.min(), xx.max())\n",
    "plt.ylim(yy.min(), yy.max())\n",
    "plt.show()"
   ]
  },
  {
   "cell_type": "markdown",
   "metadata": {},
   "source": [
    "### 5.4.2 Optimización de hyper-parámetros para SVM"
   ]
  },
  {
   "cell_type": "code",
   "execution_count": null,
   "metadata": {},
   "outputs": [],
   "source": [
    "# Crear el clasificador SVM con kernel lineal\n",
    "svm_classifier = SVC(kernel='linear')\n",
    "\n",
    "# Definir el grid de hiperparámetros\n",
    "hyper_params_grid = {\n",
    "    \"C\": [0.01, 0.1, 1, 10, 100],\n",
    "    \"max_iter\": [100, 500, 1000, 5000, -1]  # -1 significa sin límite en el número de iteraciones\n",
    "}\n",
    "\n",
    "# Configuración para la optimización de hiperparámetros\n",
    "svm_hyp_opt = GridSearchCV(estimator=svm_classifier, param_grid=hyper_params_grid, cv=10, scoring=\"roc_auc\")\n",
    "\n",
    "# Entrenar el modelo\n",
    "svm_hyp_opt.fit(X_train_scaled, y_train)\n",
    "\n",
    "# Mostrar los mejores hiperparámetros\n",
    "print(\"Mejores hiperparámetros:\", svm_hyp_opt.best_params_)"
   ]
  },
  {
   "cell_type": "code",
   "execution_count": null,
   "metadata": {},
   "outputs": [],
   "source": [
    "# score del mejor modelo\n",
    "svm_hyp_opt.best_score_"
   ]
  },
  {
   "cell_type": "code",
   "execution_count": null,
   "metadata": {},
   "outputs": [],
   "source": [
    "pd.DataFrame(svm_hyp_opt.cv_results_).sort_values(\"rank_test_score\", ascending=True)[['rank_test_score', 'params', 'mean_test_score', 'std_test_score']]\n",
    "#nos mostrará un score de los mejores resultados"
   ]
  },
  {
   "cell_type": "markdown",
   "metadata": {},
   "source": [
    "## 5.5 Árboles de Decisión"
   ]
  },
  {
   "cell_type": "code",
   "execution_count": null,
   "metadata": {},
   "outputs": [],
   "source": [
    "DTC_Classifier = DecisionTreeClassifier()\n",
    "DTC_Classifier.fit(X_train_scaled, y_train) #Entrenamiento del modelo\n",
    "\n",
    "DTC_predicts = DTC_Classifier.predict(X_test_scaled) #predicciones\n",
    "roc_auc = roc_auc_score(DTC_predicts, y_test)\n",
    "\n",
    "print(\"Roc_Auc Score:\", roc_auc)\n",
    "print(\"Accuracy:\", accuracy_score(y_test, DTC_predicts))"
   ]
  },
  {
   "cell_type": "code",
   "execution_count": null,
   "metadata": {},
   "outputs": [],
   "source": [
    "DTC_predicts"
   ]
  },
  {
   "cell_type": "code",
   "execution_count": null,
   "metadata": {},
   "outputs": [],
   "source": [
    "np.array(y_test)"
   ]
  },
  {
   "cell_type": "markdown",
   "metadata": {},
   "source": [
    "### 5.5.1 Árboles de Decisión Optimización de Hyper-Parámetros"
   ]
  },
  {
   "cell_type": "code",
   "execution_count": null,
   "metadata": {},
   "outputs": [],
   "source": [
    "# Crear el clasificador Decision Tree\n",
    "dt_classifier = DecisionTreeClassifier()\n",
    "\n",
    "# Definir el grid de hiperparámetros\n",
    "hyper_params_grid = {\n",
    "    \"criterion\": [\"gini\", \"entropy\"],\n",
    "    \"max_depth\": [None, 10, 20, 30, 40, 50],\n",
    "    \"min_samples_split\": [2, 10, 20],\n",
    "    \"min_samples_leaf\": [1, 5, 10],\n",
    "    \"max_features\": [None, \"sqrt\", \"log2\"]\n",
    "}\n",
    "\n",
    "# Configuración para la optimización de hiperparámetros\n",
    "dt_hyp_opt = GridSearchCV(estimator=dt_classifier, param_grid=hyper_params_grid, cv=10, scoring=\"roc_auc\")\n",
    "\n",
    "# Entrenar el modelo\n",
    "dt_hyp_opt.fit(X_train_scaled, y_train)\n",
    "\n",
    "# Mostrar los mejores hiperparámetros\n",
    "print(\"Mejores hiperparámetros:\", dt_hyp_opt.best_params_)"
   ]
  },
  {
   "cell_type": "code",
   "execution_count": null,
   "metadata": {},
   "outputs": [],
   "source": [
    "# score del mejor modelo\n",
    "dt_hyp_opt.best_score_"
   ]
  },
  {
   "cell_type": "code",
   "execution_count": null,
   "metadata": {},
   "outputs": [],
   "source": [
    "pd.DataFrame(dt_hyp_opt.cv_results_).sort_values(\"rank_test_score\", ascending=True)[['rank_test_score', 'params', 'mean_test_score', 'std_test_score']]\n",
    "#nos mostrará un score de los mejores resultados"
   ]
  },
  {
   "cell_type": "markdown",
   "metadata": {},
   "source": [
    "## 5.6 Random Forest Classifier"
   ]
  },
  {
   "cell_type": "code",
   "execution_count": null,
   "metadata": {},
   "outputs": [],
   "source": [
    "RF_Classifier = RandomForestClassifier()\n",
    "RF_Classifier.fit(X_train_scaled, y_train) #Entrenamiento del modelo\n",
    "\n",
    "rf_predicts = RF_Classifier.predict(X_test_scaled) #predicciones\n",
    "roc_auc = roc_auc_score(rf_predicts, y_test)\n",
    "\n",
    "print(\"Roc_Auc Score:\", roc_auc)\n",
    "print(\"Accuracy:\", accuracy_score(y_test, rf_predicts))"
   ]
  },
  {
   "cell_type": "code",
   "execution_count": null,
   "metadata": {},
   "outputs": [],
   "source": [
    "rf_predicts"
   ]
  },
  {
   "cell_type": "code",
   "execution_count": null,
   "metadata": {},
   "outputs": [],
   "source": [
    "np.array(y_test)"
   ]
  },
  {
   "cell_type": "markdown",
   "metadata": {},
   "source": [
    "### 5.6.1 Random Forest Classifier Optimización de Hyper-Parámetros"
   ]
  },
  {
   "cell_type": "code",
   "execution_count": null,
   "metadata": {},
   "outputs": [],
   "source": [
    "rf_classifier = RandomForestClassifier()\n",
    "\n",
    "hyper_params_grid = {\n",
    "    \"n_estimators\": [10,50,100,500,1000],\n",
    "    \"criterion\": [\"gini\", \"entropy\"],\n",
    "    \"max_depth\": [None, 10,25]\n",
    "}#lista es un diccionario\n",
    "\n",
    "#configuración para optimización de hiper parámetros\n",
    "\n",
    "rf_hyp_opt = GridSearchCV(estimator=rf_classifier, param_grid=hyper_params_grid, cv=10, scoring=\"roc_auc\")\n",
    "\n",
    "#Entrenar modelo\n",
    "rf_hyp_opt.fit(X_train_scaled, y_train)"
   ]
  },
  {
   "cell_type": "code",
   "execution_count": null,
   "metadata": {},
   "outputs": [],
   "source": [
    "# score del mejor modelo\n",
    "rf_hyp_opt.best_score_"
   ]
  },
  {
   "cell_type": "code",
   "execution_count": null,
   "metadata": {},
   "outputs": [],
   "source": [
    "#mejores hyper-parametros\n",
    "rf_hyp_opt.best_params_"
   ]
  },
  {
   "cell_type": "code",
   "execution_count": null,
   "metadata": {},
   "outputs": [],
   "source": [
    "pd.DataFrame(rf_hyp_opt.cv_results_).sort_values(\"rank_test_score\", ascending=True)[['rank_test_score', 'params', 'mean_test_score', 'std_test_score']]\n",
    "#nos mostrará un score de los mejores resultados"
   ]
  },
  {
   "cell_type": "code",
   "execution_count": null,
   "metadata": {},
   "outputs": [],
   "source": [
    "#Registro del modelo\n",
    "rf_model_register = RandomForestClassifier(n_estimators= 10, criterion = 'entropy', max_depth = 25)\n",
    "\n",
    "rf_model_register.fit(X_train_scaled, y_train)\n",
    "\n",
    "rf_predicts = rf_model_register.predict(X_test_scaled)\n",
    "\n",
    "roc_auc_score(rf_predicts, y_test)"
   ]
  },
  {
   "cell_type": "code",
   "execution_count": null,
   "metadata": {},
   "outputs": [],
   "source": [
    "# le pasamos toda la data, ya no podemos revisarlo\n",
    "modelo_final = RandomForestClassifier(n_estimators=100, criterion= 'entropy', max_depth= None)\n",
    "\n",
    "X_scaled = scaler.transform(X)\n",
    "\n",
    "modelo_final.fit(X_scaled,y)"
   ]
  },
  {
   "cell_type": "markdown",
   "metadata": {},
   "source": [
    "## 5.8 Análisis de discriminante cuadrático (QDA)"
   ]
  },
  {
   "cell_type": "code",
   "execution_count": null,
   "metadata": {},
   "outputs": [],
   "source": [
    "QDA_Classifier = QuadraticDiscriminantAnalysis()\n",
    "QDA_Classifier.fit(X_train_scaled, y_train) #Entrenamiento del modelo\n",
    "\n",
    "QDA_predicts = QDA_Classifier.predict(X_test_scaled) #predicciones\n",
    "roc_auc = roc_auc_score(QDA_predicts, y_test)\n",
    "\n",
    "print(\"Roc_Auc Score:\", roc_auc)\n",
    "print(\"Accuracy:\", accuracy_score(y_test, QDA_predicts))"
   ]
  },
  {
   "cell_type": "code",
   "execution_count": null,
   "metadata": {},
   "outputs": [],
   "source": [
    "QDA_predicts"
   ]
  },
  {
   "cell_type": "code",
   "execution_count": null,
   "metadata": {},
   "outputs": [],
   "source": [
    "np.array(y_test)"
   ]
  },
  {
   "cell_type": "markdown",
   "metadata": {},
   "source": [
    "### 5.8.1 Optimización con hyper parámetros"
   ]
  },
  {
   "cell_type": "code",
   "execution_count": null,
   "metadata": {},
   "outputs": [],
   "source": [
    "# Crear el clasificador QDA\n",
    "qda_classifier = QuadraticDiscriminantAnalysis()\n",
    "\n",
    "# Definir el grid de hiperparámetros\n",
    "hyper_params_grid = {\n",
    "    \"reg_param\": [0.0, 0.01, 0.1, 0.5, 1.0]\n",
    "}\n",
    "\n",
    "# Configuración para la optimización de hiperparámetros\n",
    "qda_hyp_opt = GridSearchCV(estimator=qda_classifier, param_grid=hyper_params_grid, cv=10, scoring=\"roc_auc\")\n",
    "\n",
    "# Entrenar el modelo\n",
    "qda_hyp_opt.fit(X_train_scaled, y_train)\n",
    "\n",
    "# Mostrar los mejores hiperparámetros\n",
    "print(\"Mejores hiperparámetros:\", qda_hyp_opt.best_params_)"
   ]
  },
  {
   "cell_type": "code",
   "execution_count": null,
   "metadata": {},
   "outputs": [],
   "source": [
    "# score del mejor modelo\n",
    "qda_hyp_opt.best_score_"
   ]
  },
  {
   "cell_type": "code",
   "execution_count": null,
   "metadata": {},
   "outputs": [],
   "source": [
    "pd.DataFrame(qda_hyp_opt.cv_results_).sort_values(\"rank_test_score\", ascending=True)[['rank_test_score', 'params', 'mean_test_score', 'std_test_score']]\n",
    "#nos mostrará un score de los mejores resultados"
   ]
  },
  {
   "cell_type": "markdown",
   "metadata": {},
   "source": [
    "## 5.9 AdaBoost"
   ]
  },
  {
   "cell_type": "code",
   "execution_count": null,
   "metadata": {},
   "outputs": [],
   "source": [
    "base_estimator = DecisionTreeClassifier(max_depth=1)\n",
    "ada_Classifier = AdaBoostClassifier(base_estimator, n_estimators=50, random_state=2025)\n",
    "ada_Classifier.fit(X_train_scaled, y_train) #Entrenamiento del modelo\n",
    "\n",
    "ada_predicts = ada_Classifier.predict(X_test_scaled) #predicciones\n",
    "roc_auc = roc_auc_score(ada_predicts, y_test)\n",
    "\n",
    "print(\"Roc_Auc Score:\", roc_auc)\n",
    "print(\"Accuracy:\", accuracy_score(y_test, ada_predicts))"
   ]
  },
  {
   "cell_type": "code",
   "execution_count": null,
   "metadata": {},
   "outputs": [],
   "source": [
    "ada_predicts"
   ]
  },
  {
   "cell_type": "code",
   "execution_count": null,
   "metadata": {},
   "outputs": [],
   "source": [
    "np.array(y_test)"
   ]
  },
  {
   "cell_type": "markdown",
   "metadata": {},
   "source": [
    "### 5.9.1 Optimización con hyper-parámetros para Ada Boost"
   ]
  },
  {
   "cell_type": "code",
   "execution_count": null,
   "metadata": {},
   "outputs": [],
   "source": [
    "# Crear el clasificador AdaBoost con un árbol de decisión como estimador base\n",
    "base_estimator = DecisionTreeClassifier()\n",
    "\n",
    "# Crear el clasificador AdaBoost\n",
    "ada_classifier = AdaBoostClassifier(base_estimator=base_estimator)\n",
    "\n",
    "# Definir el grid de hiperparámetros\n",
    "hyper_params_grid = {\n",
    "    \"n_estimators\": [50, 100, 200, 500],\n",
    "    \"learning_rate\": [0.01, 0.1, 1, 10],\n",
    "    \"base_estimator__max_depth\": [1, 2, 3, 4, 5]  # Ajuste de hiperparámetros para el estimador base\n",
    "}\n",
    "\n",
    "# Configuración para la optimización de hiperparámetros\n",
    "ada_hyp_opt = GridSearchCV(estimator=ada_classifier, param_grid=hyper_params_grid, cv=10, scoring=\"roc_auc\")\n",
    "\n",
    "# Entrenar el modelo\n",
    "ada_hyp_opt.fit(X_train_scaled, y_train)\n",
    "\n",
    "# Mostrar los mejores hiperparámetros\n",
    "print(\"Mejores hiperparámetros:\", ada_hyp_opt.best_params_)"
   ]
  },
  {
   "cell_type": "code",
   "execution_count": null,
   "metadata": {},
   "outputs": [],
   "source": [
    "# score del mejor modelo\n",
    "ada_hyp_opt.best_score_"
   ]
  },
  {
   "cell_type": "code",
   "execution_count": null,
   "metadata": {},
   "outputs": [],
   "source": [
    "pd.DataFrame(ada_hyp_opt.cv_results_).sort_values(\"rank_test_score\", ascending=True)[['rank_test_score', 'params', 'mean_test_score', 'std_test_score']]\n",
    "#nos mostrará un score de los mejores resultados"
   ]
  },
  {
   "cell_type": "markdown",
   "metadata": {},
   "source": [
    "## 5.10 Gradient Boosting"
   ]
  },
  {
   "cell_type": "code",
   "execution_count": null,
   "metadata": {},
   "outputs": [],
   "source": [
    "gbc_Classifier = GradientBoostingClassifier(n_estimators=100, learning_rate=0.1, max_depth=3, random_state=2025)\n",
    "gbc_Classifier.fit(X_train_scaled, y_train) #Entrenamiento del modelo\n",
    "\n",
    "gbc_predicts = gbc_Classifier.predict(X_test_scaled) #predicciones\n",
    "roc_auc = roc_auc_score(gbc_predicts, y_test)\n",
    "\n",
    "print(\"Roc_Auc Score:\", roc_auc)\n",
    "print(\"Accuracy:\", accuracy_score(y_test, gbc_predicts))"
   ]
  },
  {
   "cell_type": "code",
   "execution_count": null,
   "metadata": {},
   "outputs": [],
   "source": [
    "gbc_predicts"
   ]
  },
  {
   "cell_type": "code",
   "execution_count": null,
   "metadata": {},
   "outputs": [],
   "source": [
    "np.array(y_test)"
   ]
  },
  {
   "cell_type": "markdown",
   "metadata": {},
   "source": [
    "### 5.10.1 Optimización de hiperparámetros para Gradient Boosting"
   ]
  },
  {
   "cell_type": "code",
   "execution_count": null,
   "metadata": {},
   "outputs": [],
   "source": [
    "from sklearn.preprocessing import StandardScaler\n",
    "from sklearn.pipeline import Pipeline\n",
    "from sklearn.ensemble import GradientBoostingClassifier\n",
    "from sklearn.model_selection import RandomizedSearchCV\n",
    "from sklearn.model_selection import train_test_split\n",
    "from scipy.stats import uniform, randint\n",
    "\n",
    "# Crear el pipeline que incluya la estandarización y el clasificador Gradient Boosting\n",
    "pipeline = Pipeline([\n",
    "    ('scaler', StandardScaler()),\n",
    "    ('gb', GradientBoostingClassifier())\n",
    "])\n",
    "\n",
    "# Definir el espacio de búsqueda de hiperparámetros con distribuciones\n",
    "param_distributions = {\n",
    "    \"gb__n_estimators\": randint(50, 500),\n",
    "    \"gb__learning_rate\": uniform(0.01, 1.0),\n",
    "    \"gb__max_depth\": randint(3, 7),\n",
    "    \"gb__min_samples_split\": randint(2, 20),\n",
    "    \"gb__min_samples_leaf\": randint(1, 10),\n",
    "    \"gb__max_features\": [\"auto\", \"sqrt\", \"log2\", None],\n",
    "    \"gb__subsample\": uniform(0.6, 0.4)\n",
    "}\n",
    "\n",
    "# Configuración para la optimización de hiperparámetros con RandomizedSearchCV\n",
    "gb_hyp_opt = RandomizedSearchCV(estimator=pipeline, param_distributions=param_distributions,\n",
    "                                n_iter=50, cv=3, scoring=\"roc_auc\", random_state=42, n_jobs=-1)\n",
    "\n",
    "# Entrenar el modelo\n",
    "gb_hyp_opt.fit(X_train_scaled, y_train)\n",
    "\n",
    "# Mostrar los mejores hiperparámetros\n",
    "print(\"Mejores hiperparámetros:\", gb_hyp_opt.best_params_)\n",
    "print(\"Mejor puntuación AUC-ROC:\", gb_hyp_opt.best_score_)"
   ]
  },
  {
   "cell_type": "code",
   "execution_count": null,
   "metadata": {},
   "outputs": [],
   "source": [
    "# score del mejor modelo\n",
    "gb_hyp_opt.best_score_"
   ]
  },
  {
   "cell_type": "code",
   "execution_count": null,
   "metadata": {},
   "outputs": [],
   "source": [
    "pd.DataFrame(lr_hyp_opt.cv_results_).sort_values(\"rank_test_score\", ascending=True)[['rank_test_score', 'params', 'mean_test_score', 'std_test_score']]\n",
    "#nos mostrará un score de los mejores resultados"
   ]
  },
  {
   "cell_type": "markdown",
   "metadata": {},
   "source": [
    "## 5.11 XGBoost"
   ]
  },
  {
   "cell_type": "code",
   "execution_count": null,
   "metadata": {},
   "outputs": [],
   "source": [
    "xgb_Classifier = xgb.XGBClassifier(n_estimators=100, learning_rate=0.1, max_depth=3, random_state=2025)\n",
    "xgb_Classifier.fit(X_train_scaled, y_train) #Entrenamiento del modelo\n",
    "\n",
    "xgb_predicts = xgb_Classifier.predict(X_test_scaled) #predicciones\n",
    "roc_auc = roc_auc_score(xgb_predicts, y_test)\n",
    "\n",
    "print(\"Roc_Auc Score:\", roc_auc)\n",
    "print(\"Accuracy:\", accuracy_score(y_test, xgb_predicts))"
   ]
  },
  {
   "cell_type": "code",
   "execution_count": null,
   "metadata": {},
   "outputs": [],
   "source": [
    "xgb_predicts"
   ]
  },
  {
   "cell_type": "code",
   "execution_count": null,
   "metadata": {},
   "outputs": [],
   "source": [
    "np.array(y_test)"
   ]
  },
  {
   "cell_type": "markdown",
   "metadata": {},
   "source": [
    "### 5.11.1 Optimización de hiperparámetros con XGBoost"
   ]
  },
  {
   "cell_type": "code",
   "execution_count": null,
   "metadata": {},
   "outputs": [],
   "source": [
    "from sklearn.model_selection import GridSearchCV\n",
    "from xgboost import XGBClassifier\n",
    "from sklearn.preprocessing import StandardScaler\n",
    "from sklearn.pipeline import Pipeline\n",
    "from sklearn.model_selection import train_test_split\n",
    "\n",
    "# Crear el pipeline que incluya la estandarización y el clasificador XGBoost\n",
    "pipeline = Pipeline([\n",
    "    ('scaler', StandardScaler()),\n",
    "    ('xgb', XGBClassifier(use_label_encoder=False, eval_metric='logloss'))\n",
    "])\n",
    "\n",
    "# Definir el grid de hiperparámetros\n",
    "hyper_params_grid = {\n",
    "    \"xgb__n_estimators\": [50, 100, 200],\n",
    "    \"xgb__learning_rate\": [0.01, 0.1, 0.2],\n",
    "    \"xgb__max_depth\": [3, 4, 5],\n",
    "    \"xgb__min_child_weight\": [1, 3, 5],\n",
    "    \"xgb__gamma\": [0, 0.1, 0.2],\n",
    "    \"xgb__subsample\": [0.8, 1.0],\n",
    "    \"xgb__colsample_bytree\": [0.8, 1.0]\n",
    "}\n",
    "\n",
    "# Configuración para la optimización de hiperparámetros\n",
    "xgb_hyp_opt = GridSearchCV(estimator=pipeline, param_grid=hyper_params_grid, cv=3, scoring=\"roc_auc\")\n",
    "\n",
    "# Entrenar el modelo\n",
    "xgb_hyp_opt.fit(X_train_scaled, y_train)\n",
    "\n",
    "# Mostrar los mejores hiperparámetros\n",
    "print(\"Mejores hiperparámetros:\", xgb_hyp_opt.best_params_)\n",
    "print(\"Mejor puntuación AUC-ROC:\", xgb_hyp_opt.best_score_)"
   ]
  },
  {
   "cell_type": "code",
   "execution_count": null,
   "metadata": {},
   "outputs": [],
   "source": [
    "# score del mejor modelo\n",
    "xgb_hyp_opt.best_score_"
   ]
  },
  {
   "cell_type": "code",
   "execution_count": null,
   "metadata": {},
   "outputs": [],
   "source": [
    "pd.DataFrame(xgb_hyp_opt.cv_results_).sort_values(\"rank_test_score\", ascending=True)[['rank_test_score', 'params', 'mean_test_score', 'std_test_score']]\n",
    "#nos mostrará un score de los mejores resultados"
   ]
  },
  {
   "cell_type": "markdown",
   "metadata": {},
   "source": [
    "## 5.12 LGBM"
   ]
  },
  {
   "cell_type": "code",
   "execution_count": null,
   "metadata": {},
   "outputs": [],
   "source": [
    "lgbm_Classifier = lgb.LGBMClassifier(n_estimators=100, learning_rate=0.1, max_depth=3, random_state=2025)\n",
    "lgbm_Classifier.fit(X_train_scaled, y_train) #Entrenamiento del modelo\n",
    "\n",
    "lgbm_predicts = lgbm_Classifier.predict(X_test_scaled) #predicciones\n",
    "roc_auc = roc_auc_score(lgbm_predicts, y_test)\n",
    "\n",
    "print(\"Roc_Auc Score:\", roc_auc)\n",
    "print(\"Accuracy:\", accuracy_score(y_test, lgbm_predicts))"
   ]
  },
  {
   "cell_type": "code",
   "execution_count": null,
   "metadata": {},
   "outputs": [],
   "source": [
    "lgbm_predicts"
   ]
  },
  {
   "cell_type": "code",
   "execution_count": null,
   "metadata": {},
   "outputs": [],
   "source": [
    "np.array(y_test)"
   ]
  },
  {
   "cell_type": "markdown",
   "metadata": {},
   "source": [
    "### 5.12.1 Optimización de modelo LGBM con hiperparámetros"
   ]
  },
  {
   "cell_type": "code",
   "execution_count": null,
   "metadata": {},
   "outputs": [],
   "source": [
    "from lightgbm import LGBMClassifier\n",
    "from sklearn.model_selection import RandomizedSearchCV\n",
    "from sklearn.preprocessing import StandardScaler\n",
    "from sklearn.pipeline import Pipeline\n",
    "from sklearn.model_selection import train_test_split\n",
    "from scipy.stats import uniform, randint\n",
    "\n",
    "# Crear el pipeline que incluya la estandarización y el clasificador LGBM\n",
    "pipeline = Pipeline([\n",
    "    ('scaler', StandardScaler()),\n",
    "    ('lgbm', LGBMClassifier())\n",
    "])\n",
    "\n",
    "# Definir el espacio de búsqueda de hiperparámetros con distribuciones\n",
    "param_distributions = {\n",
    "    \"lgbm__n_estimators\": randint(50, 200),\n",
    "    \"lgbm__learning_rate\": uniform(0.01, 0.2),\n",
    "    \"lgbm__max_depth\": randint(3, 6),\n",
    "    \"lgbm__num_leaves\": randint(31, 50),\n",
    "    \"lgbm__min_child_samples\": randint(20, 40),\n",
    "    \"lgbm__subsample\": uniform(0.8, 0.2),\n",
    "    \"lgbm__colsample_bytree\": uniform(0.8, 0.2),\n",
    "    \"lgbm__reg_alpha\": uniform(0, 0.5),\n",
    "    \"lgbm__reg_lambda\": uniform(0, 0.5)\n",
    "}\n",
    "\n",
    "# Configuración para la optimización de hiperparámetros con RandomizedSearchCV\n",
    "lgbm_hyp_opt = RandomizedSearchCV(estimator=pipeline, param_distributions=param_distributions,\n",
    "                                  n_iter=50, cv=3, scoring=\"roc_auc\", random_state=42, n_jobs=-1)\n",
    "\n",
    "# Entrenar el modelo\n",
    "lgbm_hyp_opt.fit(X_train_scaled, y_train)\n",
    "\n",
    "# Mostrar los mejores hiperparámetros\n",
    "print(\"Mejores hiperparámetros:\", lgbm_hyp_opt.best_params_)\n",
    "print(\"Mejor puntuación AUC-ROC:\", lgbm_hyp_opt.best_score_)"
   ]
  },
  {
   "cell_type": "code",
   "execution_count": null,
   "metadata": {},
   "outputs": [],
   "source": [
    "# score del mejor modelo\n",
    "lgbm_hyp_opt.best_score_"
   ]
  },
  {
   "cell_type": "code",
   "execution_count": null,
   "metadata": {},
   "outputs": [],
   "source": [
    "pd.DataFrame(lgbm_hyp_opt.cv_results_).sort_values(\"rank_test_score\", ascending=True)[['rank_test_score', 'params', 'mean_test_score', 'std_test_score']]\n",
    "#nos mostrará un score de los mejores resultados"
   ]
  },
  {
   "cell_type": "markdown",
   "metadata": {},
   "source": [
    "# 6. Matriz de resultados de modelos"
   ]
  },
  {
   "cell_type": "code",
   "execution_count": null,
   "metadata": {},
   "outputs": [],
   "source": [
    "# Convertir los resultados a DataFrames\n",
    "df_lgbm = pd.DataFrame(lgbm_hyp_opt.cv_results_).sort_values(\"rank_test_score\", ascending=True)[['rank_test_score', 'params', 'mean_test_score', 'std_test_score']]\n",
    "df_qda = pd.DataFrame(qda_hyp_opt.cv_results_).sort_values(\"rank_test_score\", ascending=True)[['rank_test_score', 'params', 'mean_test_score', 'std_test_score']]\n",
    "df_nb = pd.DataFrame(nb_hyp_opt.cv_results_).sort_values(\"rank_test_score\", ascending=True)[['rank_test_score', 'params', 'mean_test_score', 'std_test_score']]\n",
    "df_lr = pd.DataFrame(lr_hyp_opt.cv_results_).sort_values(\"rank_test_score\", ascending=True)[['rank_test_score', 'params', 'mean_test_score', 'std_test_score']]\n",
    "df_svm = pd.DataFrame(svm_hyp_opt.cv_results_).sort_values(\"rank_test_score\", ascending=True)[['rank_test_score', 'params', 'mean_test_score', 'std_test_score']]\n",
    "df_dt = pd.DataFrame(dt_hyp_opt.cv_results_).sort_values(\"rank_test_score\", ascending=True)[['rank_test_score', 'params', 'mean_test_score', 'std_test_score']]\n",
    "df_rf = pd.DataFrame(rf_hyp_opt.cv_results_).sort_values(\"rank_test_score\", ascending=True)[['rank_test_score', 'params', 'mean_test_score', 'std_test_score']]\n",
    "df_ada = pd.DataFrame(ada_hyp_opt.cv_results_).sort_values(\"rank_test_score\", ascending=True)[['rank_test_score', 'params', 'mean_test_score', 'std_test_score']]\n",
    "df_gb = pd.DataFrame(lr_hyp_opt.cv_results_).sort_values(\"rank_test_score\", ascending=True)[['rank_test_score', 'params', 'mean_test_score', 'std_test_score']]\n",
    "df_xgb = pd.DataFrame(xgb_hyp_opt.cv_results_).sort_values(\"rank_test_score\", ascending=True)[['rank_test_score', 'params', 'mean_test_score', 'std_test_score']]\n",
    "df_lda = pd.DataFrame(lda_hyp_opt.cv_results_).sort_values(\"rank_test_score\", ascending=True)[['rank_test_score', 'params', 'mean_test_score', 'std_test_score']]\n",
    "\n",
    "\n",
    "# Añadir una columna para identificar el modelo\n",
    "df_nb['model'] = 'Naive Bayes'\n",
    "df_lr['model'] = 'Logistic Regression'\n",
    "df_svm['model'] = 'SVM'\n",
    "df_dt['model'] = 'Decision Tree'\n",
    "df_rf['model'] = 'Random Forest'\n",
    "df_ada['model'] = 'AdaBoost'\n",
    "df_gb['model'] = 'GradientBoosting'\n",
    "df_xgb['model'] = 'XGBoost'\n",
    "df_lgbm['model'] = 'LGBM'\n",
    "df_qda['model'] = 'QDA'\n",
    "df_lda['model'] = 'LDA'\n",
    "\n",
    "# Concatenar los resultados en un solo DataFrame\n",
    "df_results = pd.concat([df_nb,df_lr, df_svm,df_dt,df_rf,df_ada,df_gb, df_xgb, df_lgbm, df_qda,df_lda], ignore_index=True)\n",
    "\n",
    "df_results_sorted = df_results.sort_values(\"mean_test_score\", ascending = False)\n",
    "\n",
    "df_results_sorted"
   ]
  },
  {
   "cell_type": "code",
   "execution_count": null,
   "metadata": {},
   "outputs": [],
   "source": [
    "# Guardar los mejores modelos en un archivo CSV\n",
    "df_results_sorted.to_csv('../data/processed/df_results_sorted.csv', index=False)\n",
    "\n",
    "# O guardar los mejores modelos en un archivo Excel\n",
    "df_results_sorted.to_excel('../data/processed/df_results_sorted.xlsx', index=False)"
   ]
  }
 ],
 "metadata": {
  "kernelspec": {
   "display_name": "venv-bank-churning",
   "language": "python",
   "name": "python3"
  },
  "language_info": {
   "codemirror_mode": {
    "name": "ipython",
    "version": 3
   },
   "file_extension": ".py",
   "mimetype": "text/x-python",
   "name": "python",
   "nbconvert_exporter": "python",
   "pygments_lexer": "ipython3",
   "version": "3.12.7"
  }
 },
 "nbformat": 4,
 "nbformat_minor": 2
}
